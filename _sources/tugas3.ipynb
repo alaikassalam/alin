{
 "cells": [
  {
   "cell_type": "markdown",
   "metadata": {},
   "source": [
    "# Aljabar Matriks"
   ]
  },
  {
   "cell_type": "markdown",
   "metadata": {},
   "source": [
    "## Matriks.[1]"
   ]
  },
  {
   "cell_type": "markdown",
   "metadata": {},
   "source": [
    "Mengenai tentang **Pengertian Matriks** dapat disimpulkan sebagai berikut :  \n",
    "* Matriks adalah kumpulan bilangan yang disusun berdasarkan baris dan kolom serta ditempatkan didalam tanda kurung biasa ( ) atau tanda kurung siku [ ]. Untuk memberi nama pada matriks menggunakan huruf kapital seperti A, B, C dan seterusnya.  \n",
    "\n",
    "$$\n",
    "\\begin{matrix}\n",
    "A = \\begin{bmatrix}\n",
    "    1 & 2 & 3\\\\\n",
    "    4 & 5 & 6 \n",
    "  \\end{bmatrix}\n",
    "\\end{matrix}\n",
    "$$\n",
    "\n",
    "* Matriks mempunyai ukuran yangg disebut ordo. Ordo pada matriks ini berdasarkan dari banyak baris dan dikali banyak kolom. Jadi kalo matriks memiliki baris(m) dan kolom(n), maka ordo dari matriks tersebut m x n  \n",
    "* Bilangan yang ada di dalam matriks disebut elemen maktriks. Jika matrik dinotasikan dengan huruf kapital maka elemen matriks dinotasikan degan huruf kecil.  \n",
    "seperti halnya contoh berikut :  \n",
    "\n",
    "$$\n",
    "\\begin{matrix}\n",
    "A = \\begin{bmatrix}\n",
    "    a & b & c \\\\\n",
    "    d & e & f \\\\\n",
    "    g & h & i \n",
    "  \\end{bmatrix}\n",
    "\\end{matrix}\n",
    "$$"
   ]
  },
  {
   "cell_type": "markdown",
   "metadata": {},
   "source": [
    "## Operasi pada matriks. [2]"
   ]
  },
  {
   "cell_type": "markdown",
   "metadata": {},
   "source": [
    "Ada beberapa **opersi pada matriks** diantaranya sebagai berikut :  \n",
    "* Penjumlahan matriks syarat untuk penjumlahan matriks harus memiliki ordo yang sama misal matriks A memiliki baris kolom 2x2 matriks B memiliki baris kolom 2x2, maka hasil penjumlahanya dari menjumlahkan setiap elemen matriks A dan matriks B.\n",
    "Contoh sebgai berikut :  \n",
    "\n",
    "$$\n",
    "\\begin{matrix}\n",
    "A = \\begin{bmatrix}\n",
    "    1 & 2 \\\\\n",
    "    3 & 4  \n",
    "  \\end{bmatrix}\n",
    "\\end{matrix}  \n",
    "\n",
    "\n",
    "\\begin{matrix}\n",
    "B = \\begin{bmatrix}\n",
    "    4 & 3 \\\\\n",
    "    2 & 1 \n",
    "  \\end{bmatrix}\n",
    "\\end{matrix}\n",
    "$$\n",
    "\n",
    "$$\n",
    "\\begin{matrix}\n",
    "A+B = \\begin{bmatrix}\n",
    "    1+4 & 2+3 \\\\\n",
    "    3+2 & 4+1 \n",
    "  \\end{bmatrix}\n",
    "\\end{matrix}  \n",
    "$$  \n",
    "$$\n",
    "\\begin{matrix}\n",
    "A+B = \\begin{bmatrix}\n",
    "    5 & 5 \\\\\n",
    "    5 & 5 \n",
    "  \\end{bmatrix}\n",
    "\\end{matrix}\n",
    "$$"
   ]
  },
  {
   "cell_type": "markdown",
   "metadata": {},
   "source": [
    "* Pengurangan matriks sebenaranya pengurangan matriks sama dengan penhjumlahan matriks yaitu harus memiliki ordo yang sama.  \n",
    "Contoh sebagai berikut :  \n",
    "\n",
    "$$\n",
    "\\begin{matrix}\n",
    "A = \\begin{bmatrix}\n",
    "    -2 & 3 \\\\\n",
    "    1 & 2 \n",
    "  \\end{bmatrix}\n",
    "\\end{matrix}  \n",
    "\n",
    "\n",
    "\\begin{matrix}\n",
    "B = \\begin{bmatrix}\n",
    "    4 & 1 \\\\\n",
    "    2 & 3 \n",
    "  \\end{bmatrix}\n",
    "\\end{matrix}\n",
    "$$  \n",
    "\n",
    "$$\n",
    "\\begin{matrix}\n",
    "A-B = \\begin{bmatrix}\n",
    "    (-2)-2 & 3-1 \\\\\n",
    "    1-2 & 2-3 \n",
    "  \\end{bmatrix}\n",
    "\\end{matrix}  \n",
    "$$  \n",
    "$$\n",
    "\\begin{matrix}\n",
    "A+B = \\begin{bmatrix}\n",
    "    -6 & 2 \\\\\n",
    "    1 & -1 \n",
    "  \\end{bmatrix}\n",
    "\\end{matrix}\n",
    "$$"
   ]
  },
  {
   "cell_type": "markdown",
   "metadata": {},
   "source": [
    "* Perkalian Matriks Syarat untuk perkalian matriks adalah pada matriks pertama harus memiliki jumlah kolom yang sama dengan jumlah baris pada matriks kedua.  \n",
    "contoh :  \n",
    "\n",
    "$$\n",
    "\\begin{matrix}\n",
    "A = \\begin{bmatrix}\n",
    "    6 & 3 \\\\\n",
    "    4 & 8 \n",
    "  \\end{bmatrix}\n",
    "\\end{matrix}  \n",
    "\n",
    "\n",
    "\\begin{matrix}\n",
    "B = \\begin{bmatrix}\n",
    "    1 \\\\\n",
    "    2 \n",
    "  \\end{bmatrix}\n",
    "\\end{matrix}\n",
    "$$  \n",
    "\n",
    "$$\n",
    "\\begin{matrix}\n",
    "A*B = \\begin{bmatrix}\n",
    "    6*1 & 3*2 \\\\\n",
    "    4*1 & 8*2 \n",
    "  \\end{bmatrix}\n",
    "\\end{matrix}  \n",
    "$$  \n",
    "$$\n",
    "\\begin{matrix}\n",
    "A*B = \\begin{bmatrix}\n",
    "    6 + 6 \\\\\n",
    "    4 + 16 \n",
    "  \\end{bmatrix}\n",
    "\\end{matrix}  \n",
    "$$  \n",
    "$$\n",
    "\\begin{matrix}\n",
    "A*B = \\begin{bmatrix}\n",
    "    12 \\\\\n",
    "    20 \n",
    "  \\end{bmatrix}\n",
    "\\end{matrix}  \n",
    "$$  "
   ]
  },
  {
   "cell_type": "markdown",
   "metadata": {},
   "source": [
    "## Implementasi matriks dengan numpy. [3]"
   ]
  },
  {
   "cell_type": "markdown",
   "metadata": {},
   "source": [
    "**Implementasi matriks dengan numpy** Pada bahasa pemrograman yang berbasis matrik seperti Matlab dan python numpy, hampir semua penyebab eror itu karena ketidaksesuian ukuran dari matriks. tentunya untuk bisa mengoperasikan dua buah matriks atau lebih itu harus memiliki ukuran yang sama atau sesuai. Hal dasar pada pengubahan bentuk matriks pada numpy adalah operasi tersebut hanya memengaruhi pada struktur larik (array), bukan datanya. Operasi tersebut dilakukan tanpa menyalin memori sehinggan bisa menghemat memori. Ada empat teknik dasar untuk mengubah matriks, tiga teknik mempropses array tanpa menyalin memori yaitu transpose, reshape, flatten. Dan satu teknik memperoses array dengan menyalin memorinya yaitu ravel. Untuk lebih jelasnya saya paparkan sebagai berikut :  \n",
    "1. Tranpose  \n",
    "Transpose matriks merupakan proses mengubah baris ke-1 menjasdi kolom ke-1,baris ke-2 menjadi kolom ke-2, baris ke-n menjadi kolom ke-n\n",
    "Perintah dasar untuk bentuk matriks menggunakan Tranpose :\n",
    "    * .T  \n",
    "    adalah atribut  \n",
    "    * .transpose()  \n",
    "    adalah metode  \n",
    "    * np.transpose()  \n",
    "    adalah fungsi   \n",
    "\n",
    "\n",
    "operasi .T dan .transpose tidak menerima argumen() hanya pada operasi np.transpose yang bisa menerima argumen  \n",
    "Buat secara manual,otomatis  "
   ]
  },
  {
   "cell_type": "code",
   "execution_count": 1,
   "metadata": {},
   "outputs": [
    {
     "name": "stdout",
     "output_type": "stream",
     "text": [
      "A = \n",
      "[[3 2 5]\n",
      " [4 1 3]]\n",
      "A.T = \n",
      "[[3 4]\n",
      " [2 1]\n",
      " [5 3]]\n",
      "B = \n",
      "[[ 5  3  0]\n",
      " [ 6 -4  1]]\n",
      "B.transpose = \n",
      "[[ 5  6]\n",
      " [ 3 -4]\n",
      " [ 0  1]]\n",
      "C = \n",
      "[[-3  5]\n",
      " [ 5 -3]]\n",
      "np.transpose(C) = \n",
      "[[-3  5]\n",
      " [ 5 -3]]\n"
     ]
    }
   ],
   "source": [
    "import numpy as np\n",
    "A = np.array([[3,2,5],[4,1,3]])\n",
    "B = np.array([[5,3,0],[6,-4,1]])\n",
    "C = np.array([[-3,5],[5,-3]])\n",
    "\n",
    "print(f'A = \\n{A}')\n",
    "print(f'A.T = \\n{A.T}')\n",
    "print(f'B = \\n{B}')\n",
    "print(f'B.transpose = \\n{B.transpose()}')\n",
    "print(f'C = \\n{C}')\n",
    "print(f'np.transpose(C) = \\n{np.transpose(C)}')"
   ]
  },
  {
   "cell_type": "code",
   "execution_count": 2,
   "metadata": {},
   "outputs": [
    {
     "name": "stdout",
     "output_type": "stream",
     "text": [
      "A = [[9 3 3]\n",
      " [0 0 3]\n",
      " [6 2 5]]\n",
      "A.T = [[9 0 6]\n",
      " [3 0 2]\n",
      " [3 3 5]]\n"
     ]
    }
   ],
   "source": [
    "A = np.random.randint(10,size=(3,3))\n",
    "print('A =',A)\n",
    "print('A.T =',A.T)"
   ]
  },
  {
   "cell_type": "markdown",
   "metadata": {},
   "source": [
    "2. Reshape  \n",
    "Operasi dasar Reshape digunakan untuk mengubah bentuk matriks, misal dari ukuran (m, n) menjadi (n, m).Perintah reshape tidak sama dengan transpose. Ketika perintah reshape matrix A (m, n) menjadi B (n, m) itu berlaku hanya ukurannya yang dibalik, bukan matriksnya Perintah dasar untuk bentuk matriks menggunakan Reshape :  \n",
    "\n",
    "    * .shape  \n",
    "    adalah atribut \n",
    "    * .reshape (baris, kolom)  \n",
    "    adalah atribut  \n",
    "    *  np.reshape(namaMatriks, (baris, kolom)  \n",
    "    adalah metode  \n",
    "\n",
    "operasi .T dan .transpose tidak menerima argumen() hanya pada operasi np.transpose yang bisa menerima argumen"
   ]
  },
  {
   "cell_type": "code",
   "execution_count": 3,
   "metadata": {},
   "outputs": [
    {
     "name": "stdout",
     "output_type": "stream",
     "text": [
      "A = [[3 2 5]\n",
      " [4 1 3]]\n",
      "A.shape = (2, 3)\n"
     ]
    }
   ],
   "source": [
    "import numpy as np\n",
    "A = np.array([[3,2,5],[4,1,3]])\n",
    "B = np.array([[5,3,0],[6,-4,1]])\n",
    "\n",
    "print('A =',A)\n",
    "print('A.shape =',A.shape)"
   ]
  },
  {
   "cell_type": "markdown",
   "metadata": {},
   "source": [
    "3. Flatten  \n",
    "adalah salah satu bentuk mengubah matriks dengan aturan hanya menyalin matriks asli tanpa mengubah matriks asli itu sendiri Perintah dasar untuk bentuk matriks menggunakan Flatten :  \n",
    "    * .flatten()"
   ]
  },
  {
   "cell_type": "code",
   "execution_count": 4,
   "metadata": {},
   "outputs": [
    {
     "name": "stdout",
     "output_type": "stream",
     "text": [
      "A = [[3 2 5]\n",
      " [4 1 3]]\n",
      "A.flatten = [3 2 5 4 1 3]\n"
     ]
    }
   ],
   "source": [
    "import numpy as np\n",
    "A = np.array([[3,2,5],[4,1,3]])\n",
    "\n",
    "print('A =',A)\n",
    "print('A.flatten =',A.flatten())"
   ]
  },
  {
   "cell_type": "markdown",
   "metadata": {},
   "source": [
    "4. Ravel  \n",
    "sama dengan flatten, ravel adalah salah satu bentuk mengubah matriks dengan menyalin matriks asli dan dapat mengubah matriks asli itu sendiri Perintah dasar untuk bentuk matriks menggunakan Flatten :  \n",
    "    * .ravel() "
   ]
  },
  {
   "cell_type": "code",
   "execution_count": 5,
   "metadata": {},
   "outputs": [
    {
     "name": "stdout",
     "output_type": "stream",
     "text": [
      "A = [[3 2 5]\n",
      " [4 1 3]]\n",
      "A.ravel = [3 2 5 4 1 3]\n"
     ]
    }
   ],
   "source": [
    "import numpy as np\n",
    "A = np.array([[3,2,5],[4,1,3]])\n",
    "\n",
    "print('A =',A)\n",
    "print('A.ravel =',A.ravel())"
   ]
  },
  {
   "cell_type": "markdown",
   "metadata": {},
   "source": [
    "## Link Referensi  \n",
    "[1] https://www.ruangguru.com/blog/mengenal-matriks-dalam-matematika-pengertian-jenis-dan-transpose  \n",
    "[2] https://www.ruangguru.com/blog/matematika-kelas-11-operasi-aljabar-pada-matriks-penjumlahan-pengurangan-dan-perkalian  \n",
    "[3] https://dqlab.id/membuat-bentuk-matriks-dengan-numpy-array-python"
   ]
  }
 ],
 "metadata": {
  "kernelspec": {
   "display_name": "Python 3",
   "language": "python",
   "name": "python3"
  },
  "language_info": {
   "codemirror_mode": {
    "name": "ipython",
    "version": 3
   },
   "file_extension": ".py",
   "mimetype": "text/x-python",
   "name": "python",
   "nbconvert_exporter": "python",
   "pygments_lexer": "ipython3",
   "version": "3.10.13"
  }
 },
 "nbformat": 4,
 "nbformat_minor": 2
}
