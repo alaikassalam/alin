{
 "cells": [
  {
   "cell_type": "markdown",
   "metadata": {},
   "source": [
    "# Matriks Invers"
   ]
  },
  {
   "cell_type": "markdown",
   "metadata": {},
   "source": [
    "## Matriks Invers.[1]  "
   ]
  },
  {
   "cell_type": "markdown",
   "metadata": {},
   "source": [
    "**Invers matriks** adalah konsep matematika yang merupakan kebalikan dari suatu matriks. Ketika dua matriks dikalikan bersama, hasilnya adalah matriks persegi atau matriks identitas. atau dapat disimpulkan sebagai berikut :  \n",
    "* Matriks Invers adalah matriks yang apabila di kalikan dengan matriks asal, maka hasilnya adalah matriks identitas yang mana dilambangkan dengan A-1  \n",
    "* Matriks identitas adalah matriks persegi di mana semua elemen di diagonal utamanya adalah 1, dan elemen lainnya adalah 0.  \n",
    "* Matriks Invers dapat dihitung hanya ketika matriks tersebut memiliki jumlah baris dan kolom yang sama.  "
   ]
  },
  {
   "cell_type": "markdown",
   "metadata": {},
   "source": [
    "## Sifat-sifat Matriks invers[2]"
   ]
  },
  {
   "cell_type": "markdown",
   "metadata": {},
   "source": [
    "Untuk **sifat-sifat matriks invers** diantaranya sebagai berikut :  \n",
    "* Hanya untuk Matriks Persegi: Invers matriks hanya ada untuk matriks persegi, artinya matriks dengan jumlah baris dan kolom yang sama.  \n",
    "* Hanya untuk Matriks Nonsingular: Invers matriks hanya ada untuk matriks yang tidak singular, yang berarti determinannya tidak sama dengan nol. Determinan adalah nilai yang diperoleh dari elemen-elemen suatu matriks persegi.  \n",
    "* Invers Bersifat Tunggal: Setiap matriks hanya memiliki satu invers. Jika (B) dan (C) keduanya adalah invers dari matriks (A), maka (B = C).  \n",
    "* Invers dari Invers: Invers dari invers suatu matriks adalah matriks itu sendiri. Jika (B) adalah invers dari matriks (A), maka invers dari (B) adalah (A), yaitu ((A^{-1})^{-1} = A).  \n",
    "* Invers dari Hasil Kali Matriks: Invers dari hasil kali dua atau lebih matriks adalah hasil kali invers-inversnya dalam urutan terbalik. Jika (A) dan (B) keduanya nonsingular, maka ((AB)^{-1} = B^{-1} A^{-1}).  \n",
    "* Invers dari Transpos: Invers dari transpos suatu matriks adalah transpos dari inversnya. Jika (A) adalah matriks nonsingular, maka ((A^T)^{-1} = (A^{-1})^T)."
   ]
  },
  {
   "cell_type": "markdown",
   "metadata": {},
   "source": [
    "## Hitung matriks invers dengan eliminasi gauss jordan[3]"
   ]
  },
  {
   "cell_type": "markdown",
   "metadata": {},
   "source": [
    "**Metode gauss-jordan** merupakan teknik yang digunakan untuk mencari invers dari sebuah matriks. Proses ini melibatkan transformasi matriks awal menjadi matriks identitas dengan menggunakan serangkaian operasi baris. Ketika operasi-operasi ini diterapkan pada matriks identitas yang terkait, matriks awal akan berubah menjadi inversnya.  \n",
    "Terdapat **tiga jenis operasi dasar baris** :  \n",
    "* Operasi 1: Pertukaran posisi dua baris dalam matriks.  \n",
    "* Operasi 2: Pengalihan setiap elemen dalam sebuah baris dengan konstanta non-nol. Perlu dicatat bahwa ‘perkalian’ dalam konteks ini juga mencakup pembagian—misalnya, mengalikan dengan setara dengan membaginya dengan Konstanta dapat bersifat positif atau negatif, seperti 2 atau -2.  \n",
    "* Operasi 3: Penggantian suatu baris dengan jumlah baris itu sendiri dan kelipatan baris lainnya."
   ]
  },
  {
   "cell_type": "markdown",
   "metadata": {},
   "source": [
    "## Contoh :"
   ]
  },
  {
   "cell_type": "markdown",
   "metadata": {},
   "source": [
    "* Langakah Pertama kita buat matrisknya dulu disini saya membuat matriks dengan ordo 2x2  \n",
    "\n",
    "$$\n",
    "\\begin{matrix}\n",
    "SEBUAH = \\begin{bmatrix}\n",
    "    12 & 8\\\\\n",
    "    9 & 3 \n",
    "  \\end{bmatrix}\n",
    "\\end{matrix}\n",
    "$$"
   ]
  },
  {
   "cell_type": "markdown",
   "metadata": {},
   "source": [
    "* langkah kita selanjutnya kita akan melakukan serangkaian operasi baris pada kedua matriks tersebut dengan tujuan untuk memperoleh matriks identitas pada sisi kiri. seperti berikut :  \n",
    "\n",
    "$$\n",
    "\\begin{matrix}\n",
    "SEBUAH = \\begin{bmatrix}\n",
    "    12 & 8\\\\\n",
    "    9 & 3 \n",
    "  \\end{bmatrix}\n",
    "\\quad\n",
    "\\begin{bmatrix}\n",
    "    1 & 0\\\\\n",
    "    0 & 1 \n",
    "  \\end{bmatrix}\n",
    "\\end{matrix}\n",
    "$$"
   ]
  },
  {
   "cell_type": "markdown",
   "metadata": {},
   "source": [
    "Dari segi teknis, kita akan mengurangi matriks A menjadi bentuk tereduksi eselon baris, yang juga dikenal sebagai bentuk kanonik baris.  \n",
    "Matriks yang dihasilkan di sebelah kanan adalah matriks invers dari A  \n",
    "Langkah-langkah operasi baris yang kita lakukan adalah sebagai berikut:  \n",
    "a. Mengubah elemen sudut kiri atas menjadi “1” dengan membagi baris pertama.  \n",
    "b. Memastikan semua elemen di kolom pertama selain elemen sudut kiri atas menjadi “0”.  \n",
    "c. Mengubah elemen kedua, kedua menjadi “1” dengan membagi baris kedua.  \n",
    "d. Mengubah semua elemen di kolom kedua kecuali elemen kedua, kedua menjadi “0”."
   ]
  },
  {
   "cell_type": "markdown",
   "metadata": {},
   "source": [
    "* langkah opersi ke-1\n",
    "Pada bagian Baris baru [1]:  \n",
    "Dibagi dengan 12 untuk memastikan kita mendapatkan angka “1” di posisi yang diinginkan.  \n",
    "Hasilnya adalah:  \n",
    "\n",
    "$$\n",
    "\\begin{matrix}\n",
    "\\begin{bmatrix}\n",
    "    1 & 0,6667\\\\\n",
    "    9 & 3 \n",
    "  \\end{bmatrix}\n",
    "\\quad\n",
    "\\begin{bmatrix}\n",
    "    0,0833 & 0\\\\\n",
    "    0 & 1 \n",
    "  \\end{bmatrix}\n",
    "\\end{matrix}\n",
    "$$  \n",
    " \n",
    "Dengan melakukan langkah ini, kita telah menormalisasi baris pertama untuk memperoleh angka “1” pada posisi yang diinginkan."
   ]
  },
  {
   "cell_type": "markdown",
   "metadata": {},
   "source": [
    "* langkah opersi ke-2  \n",
    "Pada bagian Baris Baru [2]  \n",
    "Mengurangkan 9 kali Baris [1] dari Baris [2] untuk mendapatkan 0 pada posisi yang diinginkan:  \n",
    "$\n",
    "9 − 9 × 1 = 0\\\\\n",
    "3 − 9 × 0,6667 = -3\\\\\n",
    "0 − 9 × 0,0833 = -0,75\\\\\n",
    "1 − 9 × 0 = 1\\\\\n",
    "$  \n",
    "\n",
    "Hasilnya adalah:\n",
    "\n",
    "$$\n",
    "\\begin{matrix}\n",
    "\\begin{bmatrix}\n",
    "    1 & 0,6667\\\\\n",
    "    0 & -3 \n",
    "  \\end{bmatrix}\n",
    "\\quad\n",
    "\\begin{bmatrix}\n",
    "    0,0833 & 0\\\\\n",
    "    -0,75 & 1 \n",
    "  \\end{bmatrix}\n",
    "\\end{matrix}\n",
    "$$  "
   ]
  },
  {
   "cell_type": "markdown",
   "metadata": {},
   "source": [
    "* langkah opersi ke-3  \n",
    "Pada bagian Baris Baru [2]  \n",
    "Membagi Baris [2] dengan -3 untuk mendapatkan angka “1” pada posisi yang diinginkan:  \n",
    "Hasilnya adalah:  \n",
    "\n",
    "$$\n",
    "\\begin{matrix}\n",
    "\\begin{bmatrix}\n",
    "    1 & 0,6667\\\\\n",
    "    0 & 1 \n",
    "  \\end{bmatrix}\n",
    "\\quad\n",
    "\\begin{bmatrix}\n",
    "    0,0833 & 0\\\\\n",
    "    0,25 & -0,3333 \n",
    "  \\end{bmatrix}\n",
    "\\end{matrix}\n",
    "$$  "
   ]
  },
  {
   "cell_type": "markdown",
   "metadata": {},
   "source": [
    "* langkah opersi ke-4  \n",
    "Pada bagian Baris Baru [1]  \n",
    "Mengurangkan 0.6667 kali Baris [2] dari Baris [1] untuk mendapatkan 0 pada posisi yang diinginkan:  \n",
    "\n",
    "$\n",
    "1 − 0,6667 × 0 = 1\\\\\n",
    "0,6667 − 0,6667 × 1 = 0\\\\\n",
    "0,0833 − 0,6667 × 0,25 = -0,0833\\\\\n",
    "0 − 0,6667 × -0,3333 = 0,2222\\\\\n",
    "$  \n",
    "\n",
    "Hasilnya adalah:\n",
    "\n",
    "$$\n",
    "\\begin{matrix}\n",
    "\\begin{bmatrix}\n",
    "    1 & 0\\\\\n",
    "    0 & 1 \n",
    "  \\end{bmatrix}\n",
    "\\quad\n",
    "\\begin{bmatrix}\n",
    "    -0,0833 & 0,2222\\\\\n",
    "    0,25 & -0,3333 \n",
    "  \\end{bmatrix}\n",
    "\\end{matrix}\n",
    "$$  \n",
    "\n",
    "Jadi dapat disimpulkan invers matriks A adalah bagian kanan matriks :  \n",
    "\n",
    "$$\n",
    "\\begin{matrix}\n",
    "SEBUAH-1 = \\begin{bmatrix}\n",
    "    -0,0833 & 0,2222\\\\\n",
    "    0,25 & -0,3333 \n",
    "  \\end{bmatrix}\n",
    "\\end{matrix}\n",
    "$$"
   ]
  },
  {
   "cell_type": "markdown",
   "metadata": {},
   "source": [
    "## Link Referensi  \n",
    "[1] https://www.pijarbelajar.id/blog/rumus-invers-matriks#apa-itu-invers-matriks?  \n",
    "[2] https://www.brilio.net/ragam/rumus-invers-matriks-pahami-konsep-sifat-dan-contoh-soalnya-2310192.html  \n",
    "[3] https://www.intmath.com/matrices-determinants/inverse-matrix-gauss-jordan-elimination.php  \n",
    "[4] https://www.scratchapixel.com/lessons/mathematics-physics-for-computer-graphics/matrix-inverse/matrix-inverse.html  "
   ]
  }
 ],
 "metadata": {
  "language_info": {
   "name": "python"
  }
 },
 "nbformat": 4,
 "nbformat_minor": 2
}
