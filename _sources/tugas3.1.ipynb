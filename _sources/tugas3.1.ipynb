{
 "cells": [
  {
   "cell_type": "markdown",
   "metadata": {},
   "source": [
    "# Perkalian Matriks"
   ]
  },
  {
   "cell_type": "code",
   "execution_count": 1,
   "metadata": {},
   "outputs": [
    {
     "name": "stdout",
     "output_type": "stream",
     "text": [
      "matriks A \n",
      "[[1 2]\n",
      " [3 4]]\n",
      "matriks B \n",
      "[[2 2]\n",
      " [2 2]]\n",
      "hasil perkalian biasa\n",
      "[[2 4]\n",
      " [6 8]]\n",
      "hasil D1\n",
      "[[ 6  6]\n",
      " [14 14]]\n",
      "hasil D2\n",
      "[[ 6  6]\n",
      " [14 14]]\n"
     ]
    }
   ],
   "source": [
    "import numpy as np\n",
    "A = np.array([[1,2],[3,4]])\n",
    "B = np.array([[2,2],[2,2]])\n",
    "\n",
    "print(f'matriks A \\n{A}')\n",
    "print(f'matriks B \\n{B}')\n",
    "\n",
    "# perkalian biasa\n",
    "C = A*B\n",
    "print('hasil perkalian biasa')\n",
    "print(C)\n",
    "\n",
    "# perkalian mariks\n",
    "D1 = np.dot(A,B)\n",
    "print('hasil D1')\n",
    "print(D1)\n",
    "D2 = A.dot(B)\n",
    "print('hasil D2')\n",
    "print(D2)"
   ]
  }
 ],
 "metadata": {
  "kernelspec": {
   "display_name": "Python 3",
   "language": "python",
   "name": "python3"
  },
  "language_info": {
   "codemirror_mode": {
    "name": "ipython",
    "version": 3
   },
   "file_extension": ".py",
   "mimetype": "text/x-python",
   "name": "python",
   "nbconvert_exporter": "python",
   "pygments_lexer": "ipython3",
   "version": "3.10.13"
  }
 },
 "nbformat": 4,
 "nbformat_minor": 2
}
