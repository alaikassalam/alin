{
 "cells": [
  {
   "cell_type": "markdown",
   "metadata": {},
   "source": [
    "# EigenValue & EigenVector"
   ]
  },
  {
   "cell_type": "markdown",
   "metadata": {},
   "source": [
    "## Penjelesan EigenValue & EigenVector"
   ]
  },
  {
   "cell_type": "markdown",
   "metadata": {},
   "source": [
    "**Nilai eigen** dan **vektor eigen** adalah konsep penting dalam aljabar linear yang digunakan untuk menganalisis transformasi linier. Nilai eigen adalah sekumpulan nilai khusus yang terkait dengan suatu sistem persamaan linier, sedangkan vektor eigen adalah vektor yang dapat dilipat gandakan dengan faktor tertentu setelah mengalami transformasi linier. Faktor yang digunakan untuk melipat gandakan vektor eigen disebut nilai eigen."
   ]
  },
  {
   "cell_type": "markdown",
   "metadata": {},
   "source": [
    "## Eigen Value  \n",
    "**Eigen Value** adalah sekelompok bilangan khusus yang terkait dengan sistem persamaan linier, sering kali digunakan dalam matriks. \"Eigen\" adalah kata Jerman yang berarti \"tepat\" atau \"karakteristik\", sehingga nilai eigen juga dapat disebut sebagai nilai karakteristik, akar karakteristik, atau nilai wajar. Dalam dasarnya, nilai eigen adalah skalar yang digunakan untuk mengubah vektor eigen, yang didefinisikan dalam persamaan dasar : $$Kapak = \\lambda x$$  Vektor eigen menunjukkan arah yang diperluas oleh transformasi, sedangkan nilai eigen adalah faktor yang menyebabkannya. Jika nilai eigen negatif, arah transformasinya negatif. Setiap matriks nyata memiliki nilai eigen, meskipun kadang-kadang nilai eigen bisa rumit jika matriks kompleks, sesuai dengan teorema dasar aljabar."
   ]
  },
  {
   "cell_type": "markdown",
   "metadata": {},
   "source": [
    "## EigenVector\n",
    "**Eigenvektor** adalah vektor $(\\mathbf{x})$ (tidak nol) yang tetap dalam arahnya ketika dikenai transformasi linier, hanya berubah dalam faktor skalar. Dalam hal sederhana, jika kita memiliki transformasi linier $ A $ pada ruang vektor $ V $ dan vektor $(\\mathbf{x})$ adalah vektor di $ V $ yang bukan nol, maka vektor $(\\mathbf{x})$ adalah eigenvektor dari $ A $ jika hasil dari $A(\\mathbf{x})$ adalah kelipatan skalar dari $(\\mathbf{x})$. Ruang Eigen dari vektor $(\\mathbf{x})$ adalah himpunan semua eigenvektor yang terkait dengan nilai eigen yang sama secara keseluruhan dengan vektor nol, yang bukan eigenvektor. Dalam notasi matematis, sebuah vektor $(\\mathbf{x})$ adalah eigenvektor dari matriks $ A $ dengan nilai eigen $ \\lambda $ jika memenuhi persamaan sederhana $ \\mathbf{x} = \\lambda \\mathbf{x} $."
   ]
  },
  {
   "cell_type": "markdown",
   "metadata": {},
   "source": [
    "### Catatan :\n",
    "* Mungkin ada banyak sekali vektor Eigen, yang sesuai dengan satu nilai eigen.  \n",
    "* Untuk nilai eigen yang berbeda, vektor eigen bergantung secara linier."
   ]
  },
  {
   "cell_type": "markdown",
   "metadata": {},
   "source": [
    "## Hitung EigenValue & EigenVector menggunakan numpy "
   ]
  },
  {
   "cell_type": "markdown",
   "metadata": {},
   "source": [
    "### Hitung EigenValue & EigenVector menggunakan numpy matriks 2x2"
   ]
  },
  {
   "cell_type": "markdown",
   "metadata": {},
   "source": [
    "### buat matrik terlebih dahulu dengan ordo 2x2 :\n",
    "$$\n",
    "A = \\begin{pmatrix}\n",
    "4 & -2 \\\\\n",
    "1 & 1\n",
    "\\end{pmatrix}\n",
    "$$\n",
    "\n",
    "### Mencari Nilai Eigen (Eigenvalues)\n",
    "Untuk mencari nilai eigen ($\\lambda$), kita perlu menyelesaikan persamaan karakteristik:\n",
    "$$\n",
    "\\text{det}(A - \\lambda I) = 0\n",
    "$$\n",
    "Di mana $ I $ adalah matriks identitas 2x2:\n",
    "$$\n",
    "I = \\begin{pmatrix}\n",
    "1 & 0 \\\\\n",
    "0 & 1\n",
    "\\end{pmatrix}\n",
    "$$\n",
    "Sehingga $ A - \\lambda I $ menjadi:\n",
    "$$\n",
    "A - \\lambda I = \\begin{pmatrix}\n",
    "4 - \\lambda & -2 \\\\\n",
    "1 & 1 - \\lambda\n",
    "\\end{pmatrix}\n",
    "$$\n",
    "\n",
    "Determinannya adalah:\n",
    "$$\n",
    "\\text{det}(A - \\lambda I) = \\begin{vmatrix}\n",
    "4 - \\lambda & -2 \\\\\n",
    "1 & 1 - \\lambda\n",
    "\\end{vmatrix}\n",
    "= (4 - \\lambda)(1 - \\lambda) - (-2)(1)\n",
    "= (4 - \\lambda)(1 - \\lambda) + 2\n",
    "$$\n",
    "\n",
    "Persamaan karakteristiknya adalah:\n",
    "$$\n",
    "(4 - \\lambda)(1 - \\lambda) + 2 = 0\n",
    "$$\n",
    "$$\n",
    "4 - 4\\lambda - \\lambda + \\lambda^2 + 2 = 0\n",
    "$$\n",
    "$$\n",
    "\\lambda^2 - 5\\lambda + 6 = 0\n",
    "$$\n",
    "\n",
    "Faktorkan persamaan kuadrat:\n",
    "$$\n",
    "\\lambda^2 - 5\\lambda + 6 = (\\lambda - 2)(\\lambda - 3) = 0\n",
    "$$\n",
    "\n",
    "Jadi, nilai eigennya adalah:\n",
    "$$\n",
    "\\lambda_1 = 2, \\quad \\lambda_2 = 3\n",
    "$$\n",
    "\n",
    "### Mencari Vektor Eigen (Eigenvectors)\n",
    "Untuk masing-masing nilai eigen, kita perlu mencari vektor eigen yang sesuai ($ \\mathbf{v} $) yang memenuhi:\n",
    "$$\n",
    "(A - \\lambda I) \\mathbf{v} = 0\n",
    "$$\n",
    "\n",
    "#### Untuk $\\lambda_1 = 2$:\n",
    "$$\n",
    "A - 2I = \\begin{pmatrix}\n",
    "4 - 2 & -2 \\\\\n",
    "1 & 1 - 2\n",
    "\\end{pmatrix}\n",
    "= \\begin{pmatrix}\n",
    "2 & -2 \\\\\n",
    "1 & -1\n",
    "\\end{pmatrix}\n",
    "$$\n",
    "\n",
    "Cari vektor eigen $\\mathbf{v}$:\n",
    "$$\n",
    "\\begin{pmatrix}\n",
    "2 & -2 \\\\\n",
    "1 & -1\n",
    "\\end{pmatrix}\n",
    "\\begin{pmatrix}\n",
    "v_1 \\\\\n",
    "v_2\n",
    "\\end{pmatrix}\n",
    "= \\begin{pmatrix}\n",
    "0 \\\\\n",
    "0\n",
    "\\end{pmatrix}\n",
    "$$\n",
    "\n",
    "Dari persamaan pertama:\n",
    "$$\n",
    "2v_1 - 2v_2 = 0 \\implies v_1 = v_2\n",
    "$$\n",
    "\n",
    "Vektor eigen untuk $\\lambda_1 = 2$ adalah:\n",
    "$$\n",
    "\\mathbf{v}_1 = \\begin{pmatrix}\n",
    "1 \\\\\n",
    "1\n",
    "\\end{pmatrix}\n",
    "$$\n",
    "\n",
    "#### Untuk $\\lambda_2 = 3$:\n",
    "$$\n",
    "A - 3I = \\begin{pmatrix}\n",
    "4 - 3 & -2 \\\\\n",
    "1 & 1 - 3\n",
    "\\end{pmatrix}\n",
    "= \\begin{pmatrix}\n",
    "1 & -2 \\\\\n",
    "1 & -2\n",
    "\\end{pmatrix}\n",
    "$$\n",
    "\n",
    "Cari vektor eigen $\\mathbf{v}$:\n",
    "$$\n",
    "\\begin{pmatrix}\n",
    "1 & -2 \\\\\n",
    "1 & -2\n",
    "\\end{pmatrix}\n",
    "\\begin{pmatrix}\n",
    "v_1 \\\\\n",
    "v_2\n",
    "\\end{pmatrix}\n",
    "= \\begin{pmatrix}\n",
    "0 \\\\\n",
    "0\n",
    "\\end{pmatrix}\n",
    "$$\n",
    "\n",
    "Dari persamaan pertama:\n",
    "$$\n",
    "v_1 - 2v_2 = 0 \\implies v_1 = 2v_2\n",
    "$$\n",
    "\n",
    "Vektor eigen untuk $\\lambda_2 = 3$ adalah:\n",
    "$$\n",
    "\\mathbf{v}_2 = \\begin{pmatrix}\n",
    "2 \\\\\n",
    "1\n",
    "\\end{pmatrix}\n",
    "$$\n",
    "\n",
    "### Kesimpulan\n",
    "Nilai eigen dan vektor eigen dari matriks $ A $ adalah:\n",
    "$$\n",
    "\\lambda_1 = 2, \\quad \\mathbf{v}_1 = \\begin{pmatrix} 1 \\\\ 1 \\end{pmatrix}\n",
    "$$\n",
    "$$\n",
    "\\lambda_2 = 3, \\quad \\mathbf{v}_2 = \\begin{pmatrix} 2 \\\\ 1 \\end{pmatrix}\n",
    "$$"
   ]
  },
  {
   "cell_type": "code",
   "execution_count": 6,
   "metadata": {},
   "outputs": [
    {
     "name": "stdout",
     "output_type": "stream",
     "text": [
      "Matriks 2x2 A:\n",
      "[[ 4 -2]\n",
      " [ 1  1]]\n",
      "\n",
      " EigenValue untuk matriks 2x2:\n",
      "[3. 2.]\n",
      "\n",
      " EigenVektor untuk matriks 2x2:\n",
      "[[0.89442719 0.70710678]\n",
      " [0.4472136  0.70710678]]\n"
     ]
    }
   ],
   "source": [
    "import numpy as np\n",
    "\n",
    "# Definisikan matriks 2x2\n",
    "A_2x2 = np.array([[4, -2],\n",
    "                  [1,  1]])\n",
    "\n",
    "# Hitung nilai eigen dan vektor eigen\n",
    "eigenvalues_2x2, eigenvectors_2x2 = np.linalg.eig(A_2x2)\n",
    "\n",
    "print(\"Matriks 2x2 A:\")\n",
    "print(A_2x2)\n",
    "\n",
    "print(\"\\n EigenValue untuk matriks 2x2:\")\n",
    "print(eigenvalues_2x2)\n",
    "\n",
    "print(\"\\n EigenVektor untuk matriks 2x2:\")\n",
    "print(eigenvectors_2x2)\n"
   ]
  },
  {
   "cell_type": "markdown",
   "metadata": {},
   "source": [
    "## Link Referensi \n",
    "[1] https://byjus.com/maths/eigen-values/   \n",
    "[2] https://towardsdatascience.com/svd-in-machine-learning-pca-f25cf9b837ae\n",
    "\n"
   ]
  }
 ],
 "metadata": {
  "kernelspec": {
   "display_name": "Python 3",
   "language": "python",
   "name": "python3"
  },
  "language_info": {
   "codemirror_mode": {
    "name": "ipython",
    "version": 3
   },
   "file_extension": ".py",
   "mimetype": "text/x-python",
   "name": "python",
   "nbconvert_exporter": "python",
   "pygments_lexer": "ipython3",
   "version": "3.10.13"
  }
 },
 "nbformat": 4,
 "nbformat_minor": 2
}
