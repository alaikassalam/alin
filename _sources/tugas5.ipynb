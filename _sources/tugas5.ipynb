{
 "cells": [
  {
   "cell_type": "markdown",
   "metadata": {},
   "source": [
    "# Determinan"
   ]
  },
  {
   "cell_type": "markdown",
   "metadata": {},
   "source": [
    "## Determinan \n",
    "Determinan[1] adalah nilai yang dapat dihitung dari elemen-elemen suatu matriks yang memiliki jumlah baris dan kolom yang sama. Dengan kata lain, matriks persegi adalah matriks yang memiliki dimensi yang sama baik untuk baris maupun kolomnya $(A_n X_n)$, sehingga jika digambarkan, bentuk matriksnya menyerupai sebuah persegi  \n",
    "contoh matriks determinan 2x2:  \n",
    "$\n",
    "\\begin{matrix}\n",
    "A = \\begin{bmatrix}\n",
    "    2 & 3 \\\\\n",
    "    1 & 2 \n",
    "  \\end{bmatrix}\n",
    "\\end{matrix}\n",
    "$"
   ]
  },
  {
   "cell_type": "markdown",
   "metadata": {},
   "source": [
    "## Sifat-sifat determinan"
   ]
  },
  {
   "cell_type": "markdown",
   "metadata": {},
   "source": [
    "1. Nilai determinan dari matriks identitas adalah satu."
   ]
  },
  {
   "cell_type": "code",
   "execution_count": 8,
   "metadata": {},
   "outputs": [
    {
     "name": "stdout",
     "output_type": "stream",
     "text": [
      "determinan dari matriks D1 : 1\n"
     ]
    }
   ],
   "source": [
    "import numpy as np\n",
    "A = np.array([[2,4],[3,2]])\n",
    "B = np.array([[3,1,3],[2,3,2],[5,3,2]])\n",
    "C = np.array([[1,0],[0,1]])\n",
    "D = np.array([[1,0,0],[0,1,0],[0,0,1]])\n",
    "print(f'determinan dari matriks D1 : {(round(np.linalg.det(D)))}')\n"
   ]
  },
  {
   "cell_type": "markdown",
   "metadata": {},
   "source": [
    "2. Determinan dari hasil perkalian matriks A dan B sama dengan perkalian determinan matriks A dengan determinan matriks B.  \n",
    "$det(AB) = det(A) * det(B)$  \n",
    "$jika A = A^1 maka det(I) = det(A) * det(A^1)$"
   ]
  },
  {
   "cell_type": "code",
   "execution_count": 10,
   "metadata": {},
   "outputs": [
    {
     "name": "stdout",
     "output_type": "stream",
     "text": [
      " det(A) * det(B) = 64\n"
     ]
    }
   ],
   "source": [
    "A_inv = np.linalg.inv(A)\n",
    "B_inv = np.linalg.inv(B)\n",
    "detA = np.linalg.det(A)\n",
    "detB = np.linalg.det(B)\n",
    "det_A_inv = np.linalg.det(A)\n",
    "det_B_inv = np.linalg.det(B)\n",
    "print(f' det(A) * det(B) = {round(np.dot(detA,det_A_inv))}')\n"
   ]
  },
  {
   "cell_type": "markdown",
   "metadata": {},
   "source": [
    "3. Menukar kolom atau baris akan mengakibatkan perubahan tanda pada nilai determinan."
   ]
  },
  {
   "cell_type": "code",
   "execution_count": 11,
   "metadata": {},
   "outputs": [],
   "source": [
    "def RowSwap(A,k,l):\n",
    "# =============================================================================\n",
    "#     A is a NumPy array.  RowSwap will return duplicate array with rows\n",
    "#     k and l swapped.\n",
    "# =============================================================================\n",
    "    m = A.shape[0]  # m is number of rows in A\n",
    "    n = A.shape[1]  # n is number of columns in A\n",
    "\n",
    "    B = np.copy(A).astype('float64')\n",
    "\n",
    "    for j in range(n):\n",
    "        temp = B[k][j]\n",
    "        B[k][j] = B[l][j]\n",
    "        B[l][j] = temp\n",
    "\n",
    "    return B\n",
    "\n",
    "def RowScale(A,k,scale):\n",
    "# =============================================================================\n",
    "#     A is a NumPy array.  RowScale will return duplicate array with the\n",
    "#     entries of row k multiplied by scale.\n",
    "# =============================================================================\n",
    "    m = A.shape[0]  # m is number of rows in A\n",
    "    n = A.shape[1]  # n is number of columns in A\n",
    "\n",
    "    B = np.copy(A).astype('float64')\n",
    "\n",
    "    for j in range(n):\n",
    "        B[k][j] *= scale\n",
    "\n",
    "    return B\n",
    "\n",
    "def RowAdd(A,k,l,scale):\n",
    "# =============================================================================\n",
    "#     A is a numpy array.  RowAdd will return duplicate array with row\n",
    "#     l modifed.  The new values will be the old values of row l added to\n",
    "#     the values of row k, multiplied by scale.\n",
    "# =============================================================================\n",
    "    m = A.shape[0]  # m is number of rows in A\n",
    "    n = A.shape[1]  # n is number of columns in A\n",
    "\n",
    "    B = np.copy(A).astype('float64')\n",
    "\n",
    "    for j in range(n):\n",
    "        B[l][j] += B[k][j]*scale\n",
    "\n",
    "    return B"
   ]
  },
  {
   "cell_type": "code",
   "execution_count": 12,
   "metadata": {},
   "outputs": [
    {
     "name": "stdout",
     "output_type": "stream",
     "text": [
      "[[1 4 2]\n",
      " [1 1 1]\n",
      " [3 2 1]]\n",
      "5\n",
      "[[1. 1. 1.]\n",
      " [1. 4. 2.]\n",
      " [3. 2. 1.]]\n",
      "-5\n"
     ]
    }
   ],
   "source": [
    "import numpy as np\n",
    "A = np.array([[1,4,2],[1,1,1],[3,2,1]])\n",
    "print(A)\n",
    "AA = np.linalg.det(A)\n",
    "print(round(AA))\n",
    "A1 = RowSwap(A, 0 , 1)\n",
    "print(A1)\n",
    "detA1 = np.linalg.det(A1)\n",
    "print(round(detA1))"
   ]
  },
  {
   "cell_type": "markdown",
   "metadata": {},
   "source": [
    "4. Apabila nilai-nilai dalam suatu baris atau kolom pada matriks merupakan kelipatan dari nilai-nilai dalam baris atau kolom lainnya, maka determinannya akan menjadi nol."
   ]
  },
  {
   "cell_type": "code",
   "execution_count": 15,
   "metadata": {},
   "outputs": [
    {
     "name": "stdout",
     "output_type": "stream",
     "text": [
      "[[1 4 2]\n",
      " [2 8 4]\n",
      " [3 2 1]]\n",
      "0\n"
     ]
    }
   ],
   "source": [
    "A = np.array([[1,4,2],[2,8,4],[3,2,1]])\n",
    "print(A)\n",
    "print(round(np.linalg.det(A)))"
   ]
  },
  {
   "cell_type": "markdown",
   "metadata": {},
   "source": [
    "5. jika K adalah skalar maka \n",
    "$$det(KA) = K^2 * det(A) $$"
   ]
  },
  {
   "cell_type": "code",
   "execution_count": 17,
   "metadata": {},
   "outputs": [
    {
     "name": "stdout",
     "output_type": "stream",
     "text": [
      "40.0\n",
      "40\n"
     ]
    }
   ],
   "source": [
    "K = 2\n",
    "A = np.array([[1,4,2],[1,1,1],[3,2,1]])\n",
    "K_A = np.dot(K,A)\n",
    "detA = np.linalg.det(A)\n",
    "detK_A = np.linalg.det(K_A)\n",
    "detK_AM = np.dot(2**3,round(detA))\n",
    "print(detK_A)\n",
    "print(detK_AM)"
   ]
  },
  {
   "cell_type": "markdown",
   "metadata": {},
   "source": [
    "6. apabila melakukan operasi baris elementer ke matriksnya maka tidak akan mengubah determinan dan inversenya"
   ]
  },
  {
   "cell_type": "code",
   "execution_count": 16,
   "metadata": {},
   "outputs": [
    {
     "name": "stdout",
     "output_type": "stream",
     "text": [
      "[[1 4 2]\n",
      " [1 1 1]\n",
      " [3 2 1]]\n",
      "5\n",
      "[[1. 1. 1.]\n",
      " [1. 4. 2.]\n",
      " [3. 2. 1.]]\n",
      "-5\n"
     ]
    }
   ],
   "source": [
    "import numpy as np\n",
    "A = np.array([[1,4,2],[1,1,1],[3,2,1]])\n",
    "print(A)\n",
    "AA = np.linalg.det(A)\n",
    "print(round(AA))\n",
    "A1 = RowSwap(A, 0 , 1)\n",
    "print(A1)\n",
    "detA1 = np.linalg.det(A1)\n",
    "print(round(detA1))"
   ]
  },
  {
   "cell_type": "markdown",
   "metadata": {},
   "source": [
    "7. Determinan dari matriks A setelah dilakukan transpose sama dengan determinan matriks A sebelumnya."
   ]
  },
  {
   "cell_type": "code",
   "execution_count": 18,
   "metadata": {},
   "outputs": [
    {
     "name": "stdout",
     "output_type": "stream",
     "text": [
      "5\n",
      "5\n"
     ]
    }
   ],
   "source": [
    "import numpy as np\n",
    "A = np.array([[1,4,2],[1,1,1],[3,2,1]])\n",
    "AT = A.transpose()\n",
    "detAT = np.linalg.det(AT)\n",
    "detA = np.linalg.det(A)\n",
    "print(round(detAT))\n",
    "print(round(detA))\n"
   ]
  },
  {
   "cell_type": "markdown",
   "metadata": {},
   "source": [
    "## Matriks segitiga atas, bawah "
   ]
  },
  {
   "cell_type": "code",
   "execution_count": 19,
   "metadata": {},
   "outputs": [
    {
     "name": "stdout",
     "output_type": "stream",
     "text": [
      "segitiga atas \n",
      "[[1 4 2]\n",
      " [0 4 1]\n",
      " [0 0 1]]\n",
      "segitiga bawah \n",
      "[[1 0 0]\n",
      " [1 4 0]\n",
      " [1 4 2]]\n",
      "4.0\n",
      "4\n",
      "8\n",
      "8\n"
     ]
    }
   ],
   "source": [
    "import numpy as np\n",
    "A = np.array([[1,4,2],[0,4,1],[0,0,1]])\n",
    "B = np.array([[1,0,0],[1,4,0],[1,4,2]])\n",
    "print(f'segitiga atas \\n{A}')\n",
    "print(f'segitiga bawah \\n{B}')\n",
    "detA = np.linalg.det(A)\n",
    "detB = np.linalg.det(B)\n",
    "detAM = A[0][0] * A[1][1] * A[2][2]\n",
    "detBM = B[0][0] * B[1][1] * B[2][2]\n",
    "print(detA)\n",
    "print(detAM)\n",
    "print(round(detB))\n",
    "print(detBM)"
   ]
  },
  {
   "cell_type": "markdown",
   "metadata": {},
   "source": [
    "## Determinan dengan ekpansi kofaktor "
   ]
  },
  {
   "cell_type": "markdown",
   "metadata": {},
   "source": [
    "**Determinan ekpansi kofaktor[2]** adalah Metode dalam menghitung determinan matriks adalah suatu pendekatan yang fokus pada kemampuan perhitungan manual dan teoritis dengan menggunakan kofaktor.  \n",
    "### Kelebihan Metode Ekspansi Kofaktor :  \n",
    "1. Metode ini bisa digunakan untuk matriks yang memiliki ukuran persegi minimal 2x2.\n",
    "2. Cocok bagi yang menyukai perhitungan manual dan pendekatan teoritis.\n",
    "3. Penerapan konsep kofaktor juga berguna dalam menemukan invers dari sebuah matriks.\n"
   ]
  },
  {
   "cell_type": "markdown",
   "metadata": {},
   "source": [
    "## Link Referensi :\n",
    "[1] https://www.ruangguru.com/blog/cara-mencari-determinan-dan-invers-matriks   \n",
    "[2] https://www.profematika.com/kelebihan-dan-kekurangan-metode-ekspansi-kofaktor/\n"
   ]
  }
 ],
 "metadata": {
  "kernelspec": {
   "display_name": "Python 3",
   "language": "python",
   "name": "python3"
  },
  "language_info": {
   "codemirror_mode": {
    "name": "ipython",
    "version": 3
   },
   "file_extension": ".py",
   "mimetype": "text/x-python",
   "name": "python",
   "nbconvert_exporter": "python",
   "pygments_lexer": "ipython3",
   "version": "3.10.13"
  }
 },
 "nbformat": 4,
 "nbformat_minor": 2
}
