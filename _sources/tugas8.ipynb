{
 "cells": [
  {
   "cell_type": "markdown",
   "metadata": {},
   "source": [
    "# Aplikasi Aljabar Linier "
   ]
  },
  {
   "cell_type": "markdown",
   "metadata": {},
   "source": [
    "## Aplikasi Aljabar Linier  \n",
    "**Aplikasi aljabar linier** bukan sekadar rumus matematika, melainkan alat bantu yang mumpuni untuk menyelesaikan berbagai masalah di berbagai bidang, mulai dari teknologi komputer, ekonomi, genetika, hingga antariksa. Aljabar linier membantu menganalisis dan menyelesaikan berbagai persoalan terkait sistem persamaan linier, transformasi linier, nilai eigen, dan vektor eigen. Penerapannya membantu dalam pengolahan data, analisis struktur, dan prediksi hasil. \n",
    "Beberapa contoh aplikasi aljabar linier meliputi :\n",
    "* Pengolahan Citra Digital : Aljabar linier digunakan dalam pengolahan citra digital untuk melakukan transformasi citra, seperti filter, konvolusi, dan transformasi Fourier.\n",
    "* Komputer Grafik : Aljabar linier digunakan dalam komputer grafik untuk melakukan transformasi 3D, seperti proyeksi, rotasi, dan translasi.\n",
    "* Kriptografi : Aljabar linier digunakan dalam kriptografi untuk mengembangkan algoritma enkripsi dan dekripsi data.\n",
    "* Komunikasi Data : Aljabar linier digunakan dalam komunikasi data untuk melakukan kodifikasi dan dekodifikasi data.\n",
    "* Genetika : Aljabar linier digunakan dalam genetika untuk menganalisis struktur genetik dan prediksi hasil.\n"
   ]
  },
  {
   "cell_type": "markdown",
   "metadata": {},
   "source": [
    "### Implementasi Aplikasi Aljabar Linier Pada PageRank \n",
    "Algoritma PageRank atau algoritma Google diperkenalkan oleh Lary Page, salah satu pendiri Google. Ini pertama kali digunakan untuk menentukan peringkat halaman web di mesin pencari Google. Algoritma yang digunakan oleh Google untuk menentukan pentingnya suatu halaman web. Berikut adalah contoh **implementasi Aplikasi aljabar Linier pada PageRank** :  \n",
    "* Random Walk (Jalan Acak)   \n",
    "Random Walk dapat direpresentasikan seperti grafik berarah di mana node mewakili halaman web dan tepinya membentuk hubungan di antara keduanya.Biasanya, jika sebuah node (halaman web) *Saya terhubung ke sebuah node J, itu artinya Saya mengacu pada node J.* contohnya seperti : $[A -> B] [B -> C] [C -> A]$  \n",
    "Menilai pentingnya halaman web itu rumit. Hanya menghitung tautan balik tak cukup, kualitasnya juga penting. Pendekatan lain yang menyebarkan bobot halaman web rata ke semua tautannya pun tak ideal.  Kita butuh metode yang lebih pintar, yang mempertimbangkan kualitas tautan balik, kredibilitas pemberi tautan, dan struktur web secara keseluruhan. Algoritma PageRank di mesin pencari seperti Google adalah contoh metode canggih tersebut. Dengan melakukan itu, kita kemudian dapat menentukan skor dari sebuah node j sebagai berikut :  $$r_j = \\sum_{i \\rightarrow j} \\frac{r_i}{d_i}$$ dimana rᵢ adalah skor dari node i dan dᵢ derajat keluarnya.  \n",
    "Dari contoh di atas, kita dapat menulis sistem linier berikut :\n",
    "$$\n",
    "\\begin{align*}\n",
    "r_0 &= \\frac{r_4}{3} \\\\\n",
    "r_1 &= \\frac{r_2}{2} + \\frac{r_4}{3} + r_3 \\\\\n",
    "r_2 &= \\frac{r_0}{3} + \\frac{r_4}{3} \\\\\n",
    "r_3 &= \\frac{r_2}{2} + \\frac{r_0}{3} \\\\\n",
    "r_4 &= \\frac{r_0}{3} + r_1\n",
    "\\end{align*}\n",
    "$$ "
   ]
  },
  {
   "cell_type": "markdown",
   "metadata": {},
   "source": [
    "## Link Referensi  \n",
    "[1] https://lib-ft.unpak.ac.id/index.php?id=29789&p=show_detail  \n",
    "[2] https://elibrary.bsi.ac.id/readbook/208022/teori-dan-aplikasi-aljabar-linier-dan-matriks-dengan-implementasi-aljabar-linier-dan-matriks-menggunakan-matlab  \n",
    "[3] https://pi.math.cornell.edu/~mec/Winter2009/RalucaRemus/Lecture3/lecture3.html  \n",
    "[4] https://towardsdatascience.com/pagerank-algorithm-fully-explained-dc794184b4af \n"
   ]
  }
 ],
 "metadata": {
  "language_info": {
   "name": "python"
  }
 },
 "nbformat": 4,
 "nbformat_minor": 2
}
