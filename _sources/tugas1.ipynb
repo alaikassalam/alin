{
 "cells": [
  {
   "cell_type": "markdown",
   "metadata": {},
   "source": [
    "# Membuat Web Statis Menggunakan Jupyter-book di Github"
   ]
  },
  {
   "cell_type": "markdown",
   "metadata": {},
   "source": [
    "## Jupyter-book[1]\n",
    "Apa itu jupyter-book\n",
    "Jupyter Book adalah proyek sumber terbuka untuk membuat buku, situs web, dan dokumen berkualitas publikasi yang indah dari bahan sumber yang berisi konten komputasi. Dengan postingan ini, kami dengan senang hati mengumumkan bahwa Jupyter Book telah ditulis ulang dari awal, membuatnya lebih mudah dipasang, lebih cepat digunakan, dan mampu membuat konten penerbitan yang lebih kompleks di buku Anda."
   ]
  },
  {
   "cell_type": "markdown",
   "metadata": {},
   "source": [
    "## Fungsi jupyter-book\n",
    "**Buku Jupyter baru menyajikan sejumlah fitur** baru yang membuatnya lebih kuat dan fleksibel. Berikut adalah **beberapa fitur utama** yang disertakan:  \n",
    "* **Penulisan Konten dalam Markdown Berkualitas Publikasi :** Anda dapat menulis konten dalam Markdown Jupyter yang diperluas, yang mendukung sintaksis kaya seperti kutipan, referensi silang, matematika, persamaan, dan angka.  \n",
    "* **Penulisan Konten di Jupyter Notebooks :** Anda dapat memasukkan kode dan keluaran ke dalam buku Anda langsung dari Jupyter Notebooks.  \n",
    "* Eksekusi dan Penyimpanan Konten: Anda dapat menjalankan dan menyimpan hasil eksekusi kode ke dalam buku Anda, serta menyimpan keluaran yang dapat digunakan kembali.  \n",
    "* **Penggunaan Keluaran Buku Notebooks :** Anda dapat menyertakan keluaran dari Jupyter Notebooks secara langsung ke dalam konten buku Anda.  \n",
    "* Penambahan Interaktivitas: Anda dapat menambahkan interaktivitas ke buku Anda, termasuk visibilitas sel, keluaran interaktif, dan koneksi ke layanan online seperti Binder.  \n",
    "* **Keluaran yang Beragam :** Anda dapat menghasilkan berbagai jenis keluaran, termasuk situs web satu halaman atau multi-halaman, serta keluaran PDF.  \n",
    "* **Pembuatan Buku dengan Antarmuka Baris Perintah Sederhana :** Anda dapat membuat buku dengan cepat menggunakan perintah sederhana seperti jupyter-book build mybook/.   \n",
    "Ini hanya sebagian dari perubahan besar yang telah dilakukan. Untuk informasi lebih lanjut tentang fitur-fitur dan kemampuan Buku Jupyter baru, Anda dapat melihat dokumentasi yang tersedia."
   ]
  },
  {
   "cell_type": "markdown",
   "metadata": {},
   "source": [
    "## Membuat Web Statis Menggunakan Jupyter-book di Github\n",
    "Web Statis Menggunakan Jupyter Book adalah cara untuk membuat situs web yang tidak berubah (statis) dengan menggunakan alat bernama Jupyter Book. Dengan Jupyter Book, Anda dapat menulis konten dalam format Markdown dan mengubahnya menjadi halaman web yang bisa dibuka dengan browser. Ini memungkinkan Anda untuk berbagi informasi dan pengetahuan dengan cara yang mudah diakses dan dinavigasi.   \n",
    "Disini saya akan membagikan **vidio tutorial tentang “Cara Membuat Web Statis Menggunakan Jupyter-book di Github”.**  \n",
    "**_Berikut Link Vidionya_** : https://youtu.be/iGSvNfAgD6I?si=RvnnhC4Xp8DykOOp  "
   ]
  },
  {
   "cell_type": "markdown",
   "metadata": {},
   "source": [
    "## Link Referesnsi  \n",
    "[1] https://blog.jupyter.org/announcing-the-new-jupyter-book-cbf7aa8bc72e  \n",
    "[2] https://youtu.be/iGSvNfAgD6I?si=RvnnhC4Xp8DykOOp"
   ]
  }
 ],
 "metadata": {
  "kernelspec": {
   "display_name": "Python 3",
   "language": "python",
   "name": "python3"
  },
  "language_info": {
   "codemirror_mode": {
    "name": "ipython",
    "version": 3
   },
   "file_extension": ".py",
   "mimetype": "text/x-python",
   "name": "python",
   "nbconvert_exporter": "python",
   "pygments_lexer": "ipython3",
   "version": "3.10.13"
  },
  "widgets": {
   "application/vnd.jupyter.widget-state+json": {
    "state": {},
    "version_major": 2,
    "version_minor": 0
   }
  }
 },
 "nbformat": 4,
 "nbformat_minor": 4
}
