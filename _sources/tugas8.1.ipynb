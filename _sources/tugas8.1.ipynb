{
 "cells": [
  {
   "cell_type": "markdown",
   "metadata": {},
   "source": [
    "# Implementasi Power Methode Pada PageRank"
   ]
  },
  {
   "cell_type": "code",
   "execution_count": 5,
   "metadata": {},
   "outputs": [
    {
     "name": "stdout",
     "output_type": "stream",
     "text": [
      "[[0.         0.         0.         0.         0.33333333]\n",
      " [0.         0.         0.5        1.         0.33333333]\n",
      " [0.33333333 0.         0.         0.         0.33333333]\n",
      " [0.33333333 0.         0.5        0.         0.        ]\n",
      " [0.33333333 1.         0.         0.         0.        ]]\n"
     ]
    }
   ],
   "source": [
    "import numpy as np \n",
    "A = np.array([[0,0,0,0,1/3],[0,0,1/2,1,1/3],[1/3,0,0,0,1/3],[1/3,0,1/2,0,0],[1/3,1,0,0,0]])\n",
    "print(A)"
   ]
  },
  {
   "cell_type": "code",
   "execution_count": 6,
   "metadata": {},
   "outputs": [
    {
     "name": "stdout",
     "output_type": "stream",
     "text": [
      "v1 = [[0.06666667]\n",
      " [0.36666667]\n",
      " [0.13333333]\n",
      " [0.16666667]\n",
      " [0.26666667]]\n",
      "iterasi ke-1 = [0.05555556]\n",
      "\n",
      "v2 = [[0.06666667]\n",
      " [0.36666667]\n",
      " [0.13333333]\n",
      " [0.16666667]\n",
      " [0.26666667]]\n",
      "iterasi ke-2 = [0.02395062]\n",
      "\n",
      "v3 = [[0.08888889]\n",
      " [0.32222222]\n",
      " [0.11111111]\n",
      " [0.08888889]\n",
      " [0.38888889]]\n",
      "iterasi ke-3 = [0.00768176]\n",
      "\n",
      "urutan = [[0.35185185]\n",
      " [0.27407407]\n",
      " [0.15925926]\n",
      " [0.12962963]\n",
      " [0.08518519]]\n"
     ]
    }
   ],
   "source": [
    "def kaliMatriks(A,v0):\n",
    "  vBaru = A@v0\n",
    "  return vBaru\n",
    "\n",
    "def hasilHitung(vBaru,vlama):\n",
    "  temp = 0\n",
    "  for i in range(len(vBaru)):\n",
    "    temp += (vBaru[i] - vlama[i])**2\n",
    "  return temp\n",
    "\n",
    "def converenge(A,v0,toleransi):\n",
    "  temp = 1\n",
    "  vBaru = kaliMatriks(A,v0)\n",
    "  iterasi = hasilHitung(vBaru,v0)\n",
    "  print(f'v{temp} = {vBaru}')\n",
    "  print(f'iterasi ke-{temp} = {iterasi}')\n",
    "  print()\n",
    "  while iterasi > toleransi :\n",
    "    vBaru2 = kaliMatriks(A,vBaru)\n",
    "    iterasi = hasilHitung(vBaru2,vBaru)\n",
    "    print(f'v{temp+1} = {vBaru}')\n",
    "    print(f'iterasi ke-{temp+1} = {iterasi}')\n",
    "    print()\n",
    "    vBaru = vBaru2\n",
    "    temp += 1\n",
    "  return f'urutan = {pageRank(vBaru2)}'\n",
    "\n",
    "def pageRank(vBaru):\n",
    "  return np.sort(vBaru,axis=0)[::-1]\n",
    "\n",
    "A = np.array([[0,0,0,0,1/3],[0,0,1/2,1,1/3],[1/3,0,0,0,1/3],[1/3,0,1/2,0,0],[1/3,1,0,0,0]])\n",
    "v0 = np.array([[0.2],[0.2],[0.2],[0.2],[0.2]])\n",
    "toleransi = 0.01\n",
    "result = converenge(A,v0,toleransi)\n",
    "print(result)"
   ]
  }
 ],
 "metadata": {
  "kernelspec": {
   "display_name": "Python 3",
   "language": "python",
   "name": "python3"
  },
  "language_info": {
   "codemirror_mode": {
    "name": "ipython",
    "version": 3
   },
   "file_extension": ".py",
   "mimetype": "text/x-python",
   "name": "python",
   "nbconvert_exporter": "python",
   "pygments_lexer": "ipython3",
   "version": "3.10.13"
  }
 },
 "nbformat": 4,
 "nbformat_minor": 2
}
