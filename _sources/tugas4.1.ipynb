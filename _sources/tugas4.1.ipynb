{
 "cells": [
  {
   "cell_type": "markdown",
   "metadata": {},
   "source": [
    "# Membuat persaman dengan varibel"
   ]
  },
  {
   "cell_type": "markdown",
   "metadata": {},
   "source": [
    "## Membuat 4 persaman dengan 4 varibel dan mencari solusinya pakai invers matriks dengan eliminasi gauss jordan"
   ]
  },
  {
   "cell_type": "markdown",
   "metadata": {},
   "source": [
    "* Pertama kita akan buat fungsi yang diperlukan dulu seperti berikut :  \n",
    "Sebelum itu kita **definisikan fungsi python** yang diperlukan diantaranya :  \n",
    "1. **RowSwap** adalah fungsi digunakan untuk menukar posisi dua baris dalam sebuah matriks.  \n",
    "2. **RowScale** adalah fungsi digunakan untuk mengalikan setiap elemen dalam sebuah baris matriks dengan skalar.  \n",
    "3. **RowAdd** adalah fungsi digunakan untuk menambahkan satu baris matriks dengan baris lainnya, dengan setiap elemen baris pertama ditambahkan dengan elemen yang sesuai dari baris kedua.  "
   ]
  },
  {
   "cell_type": "code",
   "execution_count": 1,
   "metadata": {},
   "outputs": [],
   "source": [
    "def RowSwap(A,k,l):\n",
    "# =============================================================================\n",
    "#     A is a NumPy array.  RowSwap will return duplicate array with rows\n",
    "#     k and l swapped.\n",
    "# =============================================================================\n",
    "    m = A.shape[0]  # m is number of rows in A\n",
    "    n = A.shape[1]  # n is number of columns in A\n",
    "\n",
    "    B = np.copy(A).astype('float64')\n",
    "\n",
    "    for j in range(n):\n",
    "        temp = B[k][j]\n",
    "        B[k][j] = B[l][j]\n",
    "        B[l][j] = temp\n",
    "\n",
    "    return B\n",
    "\n",
    "def RowScale(A,k,scale):\n",
    "# =============================================================================\n",
    "#     A is a NumPy array.  RowScale will return duplicate array with the\n",
    "#     entries of row k multiplied by scale.\n",
    "# =============================================================================\n",
    "    m = A.shape[0]  # m is number of rows in A\n",
    "    n = A.shape[1]  # n is number of columns in A\n",
    "\n",
    "    B = np.copy(A).astype('float64')\n",
    "\n",
    "    for j in range(n):\n",
    "        B[k][j] *= scale\n",
    "\n",
    "    return B\n",
    "\n",
    "def RowAdd(A,k,l,scale):\n",
    "# =============================================================================\n",
    "#     A is a numpy array.  RowAdd will return duplicate array with row\n",
    "#     l modifed.  The new values will be the old values of row l added to\n",
    "#     the values of row k, multiplied by scale.\n",
    "# =============================================================================\n",
    "    m = A.shape[0]  # m is number of rows in A\n",
    "    n = A.shape[1]  # n is number of columns in A\n",
    "\n",
    "    B = np.copy(A).astype('float64')\n",
    "\n",
    "    for j in range(n):\n",
    "        B[l][j] += B[k][j]*scale\n",
    "\n",
    "    return B"
   ]
  },
  {
   "cell_type": "markdown",
   "metadata": {},
   "source": [
    "* Langkah selanjutnya tentu kita akan buat persamaanya dulu bebas"
   ]
  },
  {
   "cell_type": "code",
   "execution_count": 2,
   "metadata": {},
   "outputs": [
    {
     "name": "stdout",
     "output_type": "stream",
     "text": [
      "Matrix A  = \n",
      "[[  5   2  10  16]\n",
      " [  3   1   0  -2]\n",
      " [  3   1  -9 -19]\n",
      " [  4   1   0  -3]]\n",
      "\n",
      "\n"
     ]
    }
   ],
   "source": [
    "# Import library numpy dan memasukkan persamaan dalam bentuk matrix\n",
    "import numpy as np\n",
    "A = np.array([[5,2,10,16],[3,1,0,-2],[3,1,-9,-19],[4,1,0,-3]])\n",
    "print(f\"Matrix A  = \\n{A}\")\n",
    "print(\"\\n\")"
   ]
  },
  {
   "cell_type": "markdown",
   "metadata": {},
   "source": [
    "* Langkah selanjutnya akan gabungkan persamaan tersebut dengan matrik invers"
   ]
  },
  {
   "cell_type": "code",
   "execution_count": 3,
   "metadata": {},
   "outputs": [
    {
     "name": "stdout",
     "output_type": "stream",
     "text": [
      "Matrix A  = \n",
      "[[  5   2  10  16   1   0   0   0]\n",
      " [  3   1   0  -2   0   1   0   0]\n",
      " [  3   1  -9 -19   0   0   1   0]\n",
      " [  4   1   0  -3   0   0   0   1]]\n",
      "\n",
      "\n"
     ]
    }
   ],
   "source": [
    "# Import library numpy dan memasukkan persamaan dalam bentuk matrix\n",
    "import numpy as np\n",
    "A = np.array([[5,2,10,16,1,0,0,0],[3,1,0,-2,0,1,0,0],[3,1,-9,-19,0,0,1,0],[4,1,0,-3,0,0,0,1]])\n",
    "print(f\"Matrix A  = \\n{A}\")\n",
    "print(\"\\n\")"
   ]
  },
  {
   "cell_type": "markdown",
   "metadata": {},
   "source": [
    "* langkah selanjutnya akan melakukan serangkaian operasi baris pada matriks tersebut dengan tujuan untuk memperoleh matriks eselon atau PE yaitu (5) agar nialai itu (1) disini akan melakukan operasi pengurangan pada (b1-b4), seperti berikut :"
   ]
  },
  {
   "cell_type": "code",
   "execution_count": 4,
   "metadata": {},
   "outputs": [
    {
     "name": "stdout",
     "output_type": "stream",
     "text": [
      "[[  1.   1.  10.  19.   1.   0.   0.  -1.]\n",
      " [  3.   1.   0.  -2.   0.   1.   0.   0.]\n",
      " [  3.   1.  -9. -19.   0.   0.   1.   0.]\n",
      " [  4.   1.   0.  -3.   0.   0.   0.   1.]]\n"
     ]
    }
   ],
   "source": [
    "A1= RowAdd(A,3,0,-1)\n",
    "print(A1)"
   ]
  },
  {
   "cell_type": "markdown",
   "metadata": {},
   "source": [
    "* selanjutnya akan melakukan serangkaian operasi baris pada matriks tersebut dengan tujuan untuk memperoleh setiap elemen dibawah matriks eselon atau PE(5) agar nilainya itu (0) disini akan melakukan beberapa operasi pengurangan pada (b2-3b1),(b3-3b1),(b4-4b1) seperti berikut :"
   ]
  },
  {
   "cell_type": "code",
   "execution_count": 5,
   "metadata": {},
   "outputs": [
    {
     "name": "stdout",
     "output_type": "stream",
     "text": [
      "[[  1.   1.  10.  19.   1.   0.   0.  -1.]\n",
      " [  0.  -2. -30. -59.  -3.   1.   0.   3.]\n",
      " [  3.   1.  -9. -19.   0.   0.   1.   0.]\n",
      " [  4.   1.   0.  -3.   0.   0.   0.   1.]]\n"
     ]
    }
   ],
   "source": [
    "A2= RowAdd(A1,0,1,-3)\n",
    "print(A2)"
   ]
  },
  {
   "cell_type": "code",
   "execution_count": 6,
   "metadata": {},
   "outputs": [
    {
     "name": "stdout",
     "output_type": "stream",
     "text": [
      "[[  1.   1.  10.  19.   1.   0.   0.  -1.]\n",
      " [  0.  -2. -30. -59.  -3.   1.   0.   3.]\n",
      " [  0.  -2. -39. -76.  -3.   0.   1.   3.]\n",
      " [  4.   1.   0.  -3.   0.   0.   0.   1.]]\n"
     ]
    }
   ],
   "source": [
    "A3= RowAdd(A2,0,2,-3)\n",
    "print(A3)"
   ]
  },
  {
   "cell_type": "code",
   "execution_count": 7,
   "metadata": {},
   "outputs": [
    {
     "name": "stdout",
     "output_type": "stream",
     "text": [
      "[[  1.   1.  10.  19.   1.   0.   0.  -1.]\n",
      " [  0.  -2. -30. -59.  -3.   1.   0.   3.]\n",
      " [  0.  -2. -39. -76.  -3.   0.   1.   3.]\n",
      " [  0.  -3. -40. -79.  -4.   0.   0.   5.]]\n"
     ]
    }
   ],
   "source": [
    "A4= RowAdd(A3,0,3,-4)\n",
    "print(A4)"
   ]
  },
  {
   "cell_type": "markdown",
   "metadata": {},
   "source": [
    "* selanjutnya akan melakukan serangkaian operasi baris pada matriks tersebut dengan tujuan untuk memperoleh matriks eselon atau PE selanjutnya yaitu(-2) agar nilainya itu (1) disini akan melakukan operasi pada (b2-b4) seperti berikut :"
   ]
  },
  {
   "cell_type": "code",
   "execution_count": 8,
   "metadata": {},
   "outputs": [
    {
     "name": "stdout",
     "output_type": "stream",
     "text": [
      "[[  1.   1.  10.  19.   1.   0.   0.  -1.]\n",
      " [  0.   1.  10.  20.   1.   1.   0.  -2.]\n",
      " [  0.  -2. -39. -76.  -3.   0.   1.   3.]\n",
      " [  0.  -3. -40. -79.  -4.   0.   0.   5.]]\n"
     ]
    }
   ],
   "source": [
    "A5= RowAdd(A4,3,1,-1)\n",
    "print(A5)"
   ]
  },
  {
   "cell_type": "markdown",
   "metadata": {},
   "source": [
    "* selanjutnya akan melakukan serangkaian operasi baris pada matriks tersebut dengan tujuan untuk memperoleh setiap elemen dibawah atau diatasnya matriks eselon atau PE yaitu (-2) agar nilainya itu (0) disini akan melakukan beberapa operasi pada (b1-b2),(b3+2b2),(b4+3b2) seperti berikut :"
   ]
  },
  {
   "cell_type": "code",
   "execution_count": 9,
   "metadata": {},
   "outputs": [
    {
     "name": "stdout",
     "output_type": "stream",
     "text": [
      "[[  1.   0.   0.  -1.   0.  -1.   0.   1.]\n",
      " [  0.   1.  10.  20.   1.   1.   0.  -2.]\n",
      " [  0.  -2. -39. -76.  -3.   0.   1.   3.]\n",
      " [  0.  -3. -40. -79.  -4.   0.   0.   5.]]\n"
     ]
    }
   ],
   "source": [
    "A6= RowAdd(A5,1,0,-1)\n",
    "print(A6)"
   ]
  },
  {
   "cell_type": "code",
   "execution_count": 10,
   "metadata": {},
   "outputs": [
    {
     "name": "stdout",
     "output_type": "stream",
     "text": [
      "[[  1.   0.   0.  -1.   0.  -1.   0.   1.]\n",
      " [  0.   1.  10.  20.   1.   1.   0.  -2.]\n",
      " [  0.   0. -19. -36.  -1.   2.   1.  -1.]\n",
      " [  0.  -3. -40. -79.  -4.   0.   0.   5.]]\n"
     ]
    }
   ],
   "source": [
    "A7= RowAdd(A6,1,2,2)\n",
    "print(A7)"
   ]
  },
  {
   "cell_type": "code",
   "execution_count": 11,
   "metadata": {},
   "outputs": [
    {
     "name": "stdout",
     "output_type": "stream",
     "text": [
      "[[  1.   0.   0.  -1.   0.  -1.   0.   1.]\n",
      " [  0.   1.  10.  20.   1.   1.   0.  -2.]\n",
      " [  0.   0. -19. -36.  -1.   2.   1.  -1.]\n",
      " [  0.   0. -10. -19.  -1.   3.   0.  -1.]]\n"
     ]
    }
   ],
   "source": [
    "A8= RowAdd(A7,1,3,3)\n",
    "print(A8)"
   ]
  },
  {
   "cell_type": "markdown",
   "metadata": {},
   "source": [
    "* selanjutnya akan melakukan operasi baris pada matriks tersebut dengan tujuan untuk memperoleh matriks eselon atau PE selanjutnya yaitu(-19) agar nilainya itu (1) disini akan melakukan beberapa operasi pada (b2+b4) agar diatas PE(-19) itu nilainya(0) seperti berikut :"
   ]
  },
  {
   "cell_type": "code",
   "execution_count": 12,
   "metadata": {},
   "outputs": [
    {
     "name": "stdout",
     "output_type": "stream",
     "text": [
      "[[  1.   0.   0.  -1.   0.  -1.   0.   1.]\n",
      " [  0.   1.   0.   1.   0.   4.   0.  -3.]\n",
      " [  0.   0. -19. -36.  -1.   2.   1.  -1.]\n",
      " [  0.   0. -10. -19.  -1.   3.   0.  -1.]]\n"
     ]
    }
   ],
   "source": [
    "A9= RowAdd(A8,3,1,1)\n",
    "print(A9)"
   ]
  },
  {
   "cell_type": "markdown",
   "metadata": {},
   "source": [
    "* selanjutnya akan melakukan serangkaian operasi baris pada matriks tersebut dengan tujuan untuk memperoleh matriks eselon atau PE selanjutnya yaitu(-19) agar nilainya itu (1) disini akan melakukan operasi pada (b4*2) agar supaya mudah untuk mendapatkan angka 1 seperti berikut :"
   ]
  },
  {
   "cell_type": "code",
   "execution_count": 13,
   "metadata": {},
   "outputs": [
    {
     "name": "stdout",
     "output_type": "stream",
     "text": [
      "[[  1.   0.   0.  -1.   0.  -1.   0.   1.]\n",
      " [  0.   1.   0.   1.   0.   4.   0.  -3.]\n",
      " [  0.   0. -19. -36.  -1.   2.   1.  -1.]\n",
      " [  0.   0. -20. -38.  -2.   6.   0.  -2.]]\n"
     ]
    }
   ],
   "source": [
    "A10= RowScale(A9,3,2)\n",
    "print(A10)"
   ]
  },
  {
   "cell_type": "markdown",
   "metadata": {},
   "source": [
    "* selanjut untuk merubah PE(-19) agar menjadi (1) itu tinggal melakukkan operasi pengurangan (b3-b4) seperti berikut :"
   ]
  },
  {
   "cell_type": "code",
   "execution_count": 14,
   "metadata": {},
   "outputs": [
    {
     "name": "stdout",
     "output_type": "stream",
     "text": [
      "[[  1.   0.   0.  -1.   0.  -1.   0.   1.]\n",
      " [  0.   1.   0.   1.   0.   4.   0.  -3.]\n",
      " [  0.   0.   1.   2.   1.  -4.   1.   1.]\n",
      " [  0.   0. -20. -38.  -2.   6.   0.  -2.]]\n"
     ]
    }
   ],
   "source": [
    "A11= RowAdd(A10,3,2,-1)\n",
    "print(A11)"
   ]
  },
  {
   "cell_type": "markdown",
   "metadata": {},
   "source": [
    "* selanjutnya disini akan melakukan operasi baris pada matriks tersebut dengan tujuan untuk memperoleh elemen dibawah matriks eselon atau PE(-19) tadi agar nilainya itu (0) disini akan melakukan operasin pada (b4+20b3) seperti berikut :"
   ]
  },
  {
   "cell_type": "code",
   "execution_count": 15,
   "metadata": {},
   "outputs": [
    {
     "name": "stdout",
     "output_type": "stream",
     "text": [
      "[[  1.   0.   0.  -1.   0.  -1.   0.   1.]\n",
      " [  0.   1.   0.   1.   0.   4.   0.  -3.]\n",
      " [  0.   0.   1.   2.   1.  -4.   1.   1.]\n",
      " [  0.   0.   0.   2.  18. -74.  20.  18.]]\n"
     ]
    }
   ],
   "source": [
    "A12= RowAdd(A11,2,3,20)\n",
    "print(A12)"
   ]
  },
  {
   "cell_type": "markdown",
   "metadata": {},
   "source": [
    "* selanjutnya akan melakukan operasi baris pada matriks tersebut dengan tujuan untuk memperoleh matriks eselon atau PE selanjutnya yaitu(2) agar nilainya itu (1) disini akan melakukan operasi pada (b4/2) agar supaya mudah untuk mendapatkan angka 1 seperti berikut :"
   ]
  },
  {
   "cell_type": "code",
   "execution_count": 16,
   "metadata": {},
   "outputs": [
    {
     "name": "stdout",
     "output_type": "stream",
     "text": [
      "[[  1.   0.   0.  -1.   0.  -1.   0.   1.]\n",
      " [  0.   1.   0.   1.   0.   4.   0.  -3.]\n",
      " [  0.   0.   1.   2.   1.  -4.   1.   1.]\n",
      " [  0.   0.   0.   1.   9. -37.  10.   9.]]\n"
     ]
    }
   ],
   "source": [
    "A13= RowScale(A12,3,1/2)\n",
    "print(A13)"
   ]
  },
  {
   "cell_type": "markdown",
   "metadata": {},
   "source": [
    "* selanjutnya disini akan melakukan operasi baris pada matriks tersebut dengan tujuan untuk memperoleh elemen diatas matriks eselon atau PE(2) tadi agar nilainya itu (0) disini akan melakukan beberapa operasi pada (b3-2b4),(b2-b4),(b1+b4) seperti berikut :"
   ]
  },
  {
   "cell_type": "code",
   "execution_count": 17,
   "metadata": {},
   "outputs": [
    {
     "name": "stdout",
     "output_type": "stream",
     "text": [
      "[[  1.   0.   0.   0.   9. -38.  10.  10.]\n",
      " [  0.   1.   0.   1.   0.   4.   0.  -3.]\n",
      " [  0.   0.   1.   2.   1.  -4.   1.   1.]\n",
      " [  0.   0.   0.   1.   9. -37.  10.   9.]]\n"
     ]
    }
   ],
   "source": [
    "A14= RowAdd(A13,3,0,1)\n",
    "print(A14)"
   ]
  },
  {
   "cell_type": "code",
   "execution_count": 18,
   "metadata": {},
   "outputs": [
    {
     "name": "stdout",
     "output_type": "stream",
     "text": [
      "[[  1.   0.   0.   0.   9. -38.  10.  10.]\n",
      " [  0.   1.   0.   0.  -9.  41. -10. -12.]\n",
      " [  0.   0.   1.   2.   1.  -4.   1.   1.]\n",
      " [  0.   0.   0.   1.   9. -37.  10.   9.]]\n"
     ]
    }
   ],
   "source": [
    "A15= RowAdd(A14,3,1,-1)\n",
    "print(A15)"
   ]
  },
  {
   "cell_type": "code",
   "execution_count": 19,
   "metadata": {},
   "outputs": [
    {
     "name": "stdout",
     "output_type": "stream",
     "text": [
      "[[  1.   0.   0.   0.   9. -38.  10.  10.]\n",
      " [  0.   1.   0.   0.  -9.  41. -10. -12.]\n",
      " [  0.   0.   1.   0. -17.  70. -19. -17.]\n",
      " [  0.   0.   0.   1.   9. -37.  10.   9.]]\n"
     ]
    }
   ],
   "source": [
    "A16= RowAdd(A15,3,2,-2)\n",
    "print(A16)"
   ]
  },
  {
   "cell_type": "markdown",
   "metadata": {},
   "source": [
    "disini sudah mendapatkan invers dari $A^1$,selanjutnya disini bisa lakukaan opersi perkalian yaitu $A^1$ dengan B unutuk mendapatkan matriks yang benilai solusi dari persamaan tersebut\n",
    " \n",
    "$$\n",
    "\\begin{matrix}\n",
    "X = A^1 B = \\begin{bmatrix}\n",
    "    9 & -38 & 10 & 10 \\\\\n",
    "    -9 & 41 & -10 & -12 \\\\\n",
    "    -17 & 70 & -19 & -17 \\\\\n",
    "    9 & -37 & 10 & 9 \n",
    "  \\end{bmatrix}\n",
    "\\quad\n",
    "\\begin{bmatrix}\n",
    "    16 \\\\\n",
    "    4 \\\\\n",
    "    -4 \\\\\n",
    "    5\n",
    "  \\end{bmatrix}\n",
    "\\end{matrix}\n",
    "$$\n",
    "\n",
    "dan hasilnya sebagai berikut :"
   ]
  },
  {
   "cell_type": "code",
   "execution_count": 20,
   "metadata": {},
   "outputs": [
    {
     "name": "stdout",
     "output_type": "stream",
     "text": [
      "[[ 2]\n",
      " [ 0]\n",
      " [-1]\n",
      " [ 1]]\n"
     ]
    }
   ],
   "source": [
    "A_inverse = np.array([[9, -38, 10, 10], [-9, 41, -10, -12],[-17, 70, -19, -17], [9,-37,10,9]])\n",
    "b = np.array([[16], [4], [-4], [5]])\n",
    "\n",
    "x = A_inverse @ b\n",
    "\n",
    "print(x)"
   ]
  }
 ],
 "metadata": {
  "kernelspec": {
   "display_name": "Python 3",
   "language": "python",
   "name": "python3"
  },
  "language_info": {
   "codemirror_mode": {
    "name": "ipython",
    "version": 3
   },
   "file_extension": ".py",
   "mimetype": "text/x-python",
   "name": "python",
   "nbconvert_exporter": "python",
   "pygments_lexer": "ipython3",
   "version": "3.10.13"
  }
 },
 "nbformat": 4,
 "nbformat_minor": 2
}
