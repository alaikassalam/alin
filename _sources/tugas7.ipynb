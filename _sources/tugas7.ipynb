{
 "cells": [
  {
   "cell_type": "markdown",
   "metadata": {},
   "source": [
    "# Transformasi Linier"
   ]
  },
  {
   "cell_type": "markdown",
   "metadata": {},
   "source": [
    "## Definisi Transformasi Linier  \n",
    "Transformasi linear adalah sebuah fungsi yang memetakan sebuah vektor pada ruang vektor V ke vektor pada ruang vektor W. Dalam definisi ini, transformasi linear memiliki domain dan kodomain yang masing-masing adalah ruang vektor V dan W.\n"
   ]
  },
  {
   "cell_type": "markdown",
   "metadata": {},
   "source": [
    "## Transformasi linear memenuhi dua syarat:\n",
    "* Komutatif :\n",
    "$ T(u+v) = T(u) + T(v) $  \n",
    "untuk semua vektor $ u $, $ v $ di V.\n",
    "* Homogen :\n",
    "$ T(au) = aT(u) $   \n",
    "untuk semua vektor $ u $ di V dan semua skalar $ a $.  \n",
    "\n",
    "Dengan demikian, transformasi linear dapat digunakan untuk menghubungkan anggota dari suatu himpunan dengan anggota pada himpunan lainnya. Contoh aplikasi transformasi linear dapat ditemukan dalam berbagai bidang matematika dan ilmu pengetahuan, seperti kalkulus, aljabar linear, dan grafika komputer"
   ]
  },
  {
   "cell_type": "markdown",
   "metadata": {},
   "source": [
    "### Komutatif\n",
    "Syarat ini berarti bahwa urutan operasi tidak berpengaruh terhadap hasil. Dalam konteks transformasi linear, ini berarti bahwa hasil dari operasi penjumlahan vektor tidak bergantung pada urutan penjumlahan.  \n",
    "Secara matematis, syarat ini dapat dinyatakan sebagai:  $ T(u+v)=T(u)+T(v) $  \n",
    "\n",
    "contoh :  \n",
    "\n",
    "\n",
    "$$\n",
    "A = \\begin{pmatrix}\n",
    "1 & 2 \\\\\n",
    "2 & 3 \\\\\n",
    "\\end{pmatrix}\n",
    "$$\n",
    "\n",
    "Vektor $ \\mathbf{u} $ dan $ \\mathbf{v} $:\n",
    "\n",
    "$$\n",
    "\\mathbf{u} = \\begin{pmatrix}\n",
    "1 \\\\\n",
    "2 \\\\\n",
    "\\end{pmatrix}, \\quad \\mathbf{v} = \\begin{pmatrix}\n",
    "2 \\\\\n",
    "3 \\\\\n",
    "\\end{pmatrix}\n",
    "$$\n",
    "\n",
    "Transformasi dari $ \\mathbf{u} $, $ T(\\mathbf{u}) $:\n",
    "\n",
    "$$\n",
    "T(\\mathbf{u}) = A \\mathbf{u} = \\begin{pmatrix}\n",
    "1 & 2 \\\\\n",
    "2 & 3 \\\\\n",
    "\\end{pmatrix} \\begin{pmatrix}\n",
    "1 \\\\\n",
    "2 \\\\\n",
    "\\end{pmatrix} = \\begin{pmatrix}\n",
    "1 \\times 1 + 2 \\times 2 \\\\\n",
    "2 \\times 1 + 3 \\times 2 \\\\\n",
    "\\end{pmatrix} = \\begin{pmatrix}\n",
    "5 \\\\\n",
    "8 \\\\\n",
    "\\end{pmatrix}\n",
    "$$\n",
    "\n",
    "Transformasi dari $ \\mathbf{v} $, $ T(\\mathbf{v}) $:\n",
    "\n",
    "$$\n",
    "T(\\mathbf{v}) = A \\mathbf{v} = \\begin{pmatrix}\n",
    "1 & 2 \\\\\n",
    "2 & 3 \\\\\n",
    "\\end{pmatrix} \\begin{pmatrix}\n",
    "2 \\\\\n",
    "3 \\\\\n",
    "\\end{pmatrix} = \\begin{pmatrix}\n",
    "1 \\times 2 + 2 \\times 3 \\\\\n",
    "2 \\times 2 + 3 \\times 3 \\\\\n",
    "\\end{pmatrix} = \\begin{pmatrix}\n",
    "8 \\\\\n",
    "13 \\\\\n",
    "\\end{pmatrix}\n",
    "$$\n",
    "\n",
    "Transformasi dari $ \\mathbf{u} + \\mathbf{v} $, $ T(\\mathbf{u} + \\mathbf{v}) $:\n",
    "\n",
    "$$\n",
    "\\mathbf{u} + \\mathbf{v} = \\begin{pmatrix}\n",
    "1 \\\\\n",
    "2 \\\\\n",
    "\\end{pmatrix} + \\begin{pmatrix}\n",
    "2 \\\\\n",
    "3 \\\\\n",
    "\\end{pmatrix} = \\begin{pmatrix}\n",
    "3 \\\\\n",
    "5 \\\\\n",
    "\\end{pmatrix}\n",
    "$$\n",
    "\n",
    "$$\n",
    "T(\\mathbf{u} + \\mathbf{v}) = A (\\mathbf{u} + \\mathbf{v}) = \\begin{pmatrix}\n",
    "1 & 2 \\\\\n",
    "2 & 3 \\\\\n",
    "\\end{pmatrix} \\begin{pmatrix}\n",
    "3 \\\\\n",
    "5 \\\\\n",
    "\\end{pmatrix} = \\begin{pmatrix}\n",
    "1 \\times 3 + 2 \\times 5 \\\\\n",
    "2 \\times 3 + 3 \\times 5 \\\\\n",
    "\\end{pmatrix} = \\begin{pmatrix}\n",
    "13 \\\\\n",
    "21 \\\\\n",
    "\\end{pmatrix}\n",
    "$$\n",
    "\n",
    "Penjumlahan $ T(\\mathbf{u}) + T(\\mathbf{v}) $:\n",
    "\n",
    "$$\n",
    "T(\\mathbf{u}) + T(\\mathbf{v}) = \\begin{pmatrix}\n",
    "5 \\\\\n",
    "8 \\\\\n",
    "\\end{pmatrix} + \\begin{pmatrix}\n",
    "8 \\\\\n",
    "13 \\\\\n",
    "\\end{pmatrix} = \\begin{pmatrix}\n",
    "13 \\\\\n",
    "21 \\\\\n",
    "\\end{pmatrix}\n",
    "$$\n",
    "\n",
    "Kita dapat melihat bahwa $ T(\\mathbf{u} + \\mathbf{v}) = T(\\mathbf{u}) + T(\\mathbf{v}) $, sehingga aturan additivitas terpenuhi."
   ]
  },
  {
   "cell_type": "code",
   "execution_count": 1,
   "metadata": {},
   "outputs": [
    {
     "name": "stdout",
     "output_type": "stream",
     "text": [
      "[13 21]\n",
      "[13 21]\n"
     ]
    }
   ],
   "source": [
    "import numpy as np\n",
    "\n",
    "A = np.array([[1, 2],\n",
    "              [2, 3]])\n",
    "\n",
    "u = np.array([1, 2])\n",
    "v = np.array([2, 3])\n",
    "\n",
    "Tu = np.dot(A, u)\n",
    "Tv = np.dot(A, v)\n",
    "Tu_plus_v = np.dot(A, u + v)\n",
    "\n",
    "Tu_plus_Tv = Tu + Tv\n",
    "print(Tu_plus_Tv)\n",
    "print(Tu + Tv)\n"
   ]
  },
  {
   "cell_type": "markdown",
   "metadata": {},
   "source": [
    "### Homogen\n",
    "Syarat ini berarti bahwa jika kita mengalikan suatu skalar ke vektor, maka hasil transformasi juga akan dikalikan dengan skalar yang sama.  \n",
    "Secara matematis, syarat ini dapat dinyatakan sebagai: $ T(αu)=αT(u) $   \n",
    "\n",
    "contoh :\n",
    "\n",
    "$$\n",
    "A = \\begin{pmatrix}\n",
    "1 & 2 \\\\\n",
    "2 & 3 \\\\\n",
    "\\end{pmatrix}\n",
    "$$\n",
    "\n",
    "Vektor $ \\mathbf{u} $:\n",
    "\n",
    "$$\n",
    "\\mathbf{u} = \\begin{pmatrix}\n",
    "1 \\\\\n",
    "2 \\\\\n",
    "\\end{pmatrix}\n",
    "$$\n",
    "\n",
    "Skalar $ \\alpha $:\n",
    "\n",
    "$$ \\alpha = 2 $$\n",
    "\n",
    "Transformasi dari $ \\mathbf{u} $, $ T(\\mathbf{u}) $:\n",
    "\n",
    "$$\n",
    "T(\\mathbf{u}) = \\begin{pmatrix}\n",
    "5 \\\\\n",
    "8 \\\\\n",
    "\\end{pmatrix}\n",
    "$$\n",
    "\n",
    "Transformasi dari $ \\alpha \\mathbf{u} $, $ T(\\alpha \\mathbf{u}) $:\n",
    "\n",
    "$$\n",
    "T(\\alpha \\mathbf{u}) = \\begin{pmatrix}\n",
    "10 \\\\\n",
    "16 \\\\\n",
    "\\end{pmatrix}\n",
    "$$\n",
    "\n",
    "$ \\alpha T(\\mathbf{u}) $:\n",
    "\n",
    "$$\n",
    "\\alpha T(\\mathbf{u}) = \\begin{pmatrix}\n",
    "10 \\\\\n",
    "16 \\\\\n",
    "\\end{pmatrix}\n",
    "$$\n",
    "\n",
    "Karena $ T(\\alpha \\mathbf{u}) = \\alpha T(\\mathbf{u}) $, aturan homogenitas $ T(\\alpha \\mathbf{u}) = \\alpha T(\\mathbf{u}) $ terpenuhi."
   ]
  },
  {
   "cell_type": "code",
   "execution_count": 2,
   "metadata": {},
   "outputs": [
    {
     "name": "stdout",
     "output_type": "stream",
     "text": [
      "[10 16]\n",
      "[10 16]\n"
     ]
    }
   ],
   "source": [
    "import numpy as np\n",
    "A = np.array([[1, 2],\n",
    "              [2, 3]])\n",
    "\n",
    "u = np.array([1, 2])\n",
    "\n",
    "alpha = 2\n",
    "\n",
    "Tu = np.dot(A, u)\n",
    "\n",
    "alpha_u = alpha * u\n",
    "T_alpha_u = np.dot(A, alpha_u)\n",
    "\n",
    "alpha_Tu = alpha * Tu\n",
    "\n",
    "print(T_alpha_u)\n",
    "print(alpha_Tu)"
   ]
  },
  {
   "cell_type": "markdown",
   "metadata": {},
   "source": [
    "## Refleksi pada transformasi linier\n",
    "Refleksi pada transformasi linear adalah jenis transformasi geometri yang memindahkan setiap titik pada suatu bidang dengan menggunakan sifat bayangan cermin dari titik yang dipindahkan. Dalam refleksi, bayangan yang ada di dalam cermin akan selalu sama dengan benda yang dicerminkan, memiliki sifat yang sama dengan simetri lipat  "
   ]
  },
  {
   "cell_type": "markdown",
   "metadata": {},
   "source": [
    "### Ciri-Ciri Refleksi  \n",
    "* Bayangan Sama Bentuk dan Ukuran: Bayangan suatu bangun yang dicerminkan memiliki bentuk dan ukuran yang sama dengan bangun yang aslinya.  \n",
    "* Jarak Bayangan ke Cermin Sama dengan Jarak Benda Aslinya: Jarak bayangan ke cermin sama dengan jarak benda aslinya ke cermin.  \n",
    "* Bayangan Saling Berhadapan dengan Bangun Aslinya: Bayangan bangun pada cermin saling berhadapan dengan bangun aslinya.  "
   ]
  },
  {
   "cell_type": "markdown",
   "metadata": {},
   "source": [
    "## Link Referensi\n",
    "[1] https://repository.dinus.ac.id/docs/ajar/11-12-Transformasi_Linear.pdf  \n",
    "[2] https://lms-paralel.esaunggul.ac.id/pluginfile.php?file=%2F362843%2Fmod_resource%2Fcontent%2F1%2Ftransformasi-linier+pertemuan+10+online+8-1.pdf  \n",
    "[3] https://www.detik.com/edu/detikpedia/d-7343683/rumus-refleksi-pada-transformasi-geometri-pengertian-dan-contoh-soalnya  \n",
    "[4] http://file.upi.edu/Direktori/FPMIPA/JUR._PEND._MATEMATIKA/194705241981031-JOZUA_SABANDAR/KUMPULAN_HAND_OUT/handout_Geo_Trans.pdf  "
   ]
  }
 ],
 "metadata": {
  "kernelspec": {
   "display_name": "Python 3",
   "language": "python",
   "name": "python3"
  },
  "language_info": {
   "codemirror_mode": {
    "name": "ipython",
    "version": 3
   },
   "file_extension": ".py",
   "mimetype": "text/x-python",
   "name": "python",
   "nbconvert_exporter": "python",
   "pygments_lexer": "ipython3",
   "version": "3.10.13"
  }
 },
 "nbformat": 4,
 "nbformat_minor": 2
}
