{
 "cells": [
  {
   "cell_type": "markdown",
   "metadata": {},
   "source": [
    "# Sistem Persamaan Linier"
   ]
  },
  {
   "cell_type": "markdown",
   "metadata": {},
   "source": [
    "## Sistem Persaman Linier[1]  "
   ]
  },
  {
   "cell_type": "markdown",
   "metadata": {},
   "source": [
    "**Sistem persamaan linear** adalah bagian dari matematika yang melibatkan persamaan aljabar. Aljabar merupakan cabang matematika yang menggunakan simbol dan huruf untuk merepresentasikan nilai dari suatu konsep. Dalam buku “Linear Programming dengan R: Aplikasi untuk Teknik Industri” oleh Ilyas Masudin, Muhammad Faisal Ibrahim, dan Gilang Yandeza, persamaan linear didefinisikan sebagai sistem persamaan aljabar di mana setiap persamaannya mengandung konstanta atau perkalian konstanta dengan variabel tunggal. Persamaan tersebut disebut linear karena hubungan matematisnya dapat direpresentasikan sebagai garis lurus.  \n",
    "Secara umum, **sistem persamaan linear** memiliki variabel tunggal. Namun, terdapat beberapa jenis sistem persamaan linear yang melibatkan lebih dari satu variabel. Contohnya adalah sistem persamaan linear dua variabel (SPLDV) dan sistem persamaan linear tiga variabel (SPLTV). Dalam SPLDV, terdapat dua variabel yang digunakan, sedangkan dalam SPLTV, terdapat tiga variabel yang digunakan.  \n",
    "contoh :  \n",
    "\n",
    "$\n",
    "3x + 2y = 10\\\\\n",
    "2x + 5y = 50\\\\\n",
    "x + 7y = 34\n",
    "$"
   ]
  },
  {
   "cell_type": "markdown",
   "metadata": {},
   "source": [
    "## Penyelesaian sistem persamaan linier dengan Eliminasi gauss[2]"
   ]
  },
  {
   "cell_type": "markdown",
   "metadata": {},
   "source": [
    "**Eliminasi Gauss** adalah metode matematika yang dikembangkan oleh Carl Friedrich Gauss yang digunakan untuk menyelesaikan sistem persamaan linear. Metode ini melibatkan transformasi sistem persamaan linear ke dalam bentuk matriks, kemudian mengaplikasikan operasi baris elementer untuk mengubah matriks tersebut menjadi bentuk eselon baris. Dalam bentuk eselon baris ini, proses substitusi balik dapat dilakukan untuk mencari solusi dari sistem persamaan linear tersebut.   \n",
    "Eliminasi Gauss digunakan untuk membuat sistem persamaan linear lebih sederhana sehingga dapat diselesaikan dengan lebih mudah. Metode ini bermanfaat dalam berbagai bidang, termasuk bidang astronomi, dan dapat digunakan untuk sistem persamaan berskala kecil maupun besar.  \n",
    "contoh :  \n",
    "\n",
    "$\n",
    "x_{1} - x_{2} + x_{3} = 3\\\\\n",
    "2x_{1} - x_{2} + 8x_{3} = 18\\\\\n",
    "4x_{1} - 2x_{2} + 3x_{3} = -2\n",
    "$  \n",
    "\n",
    "menajadi :  \n",
    "\n",
    "$\n",
    "x_{1} - x_{2} + x_{3} = 3\\\\\n",
    "x_{2} + 2x_{3} = 4\\\\\n",
    "x_{3} = 2\n",
    "$  "
   ]
  },
  {
   "cell_type": "markdown",
   "metadata": {},
   "source": [
    "**Eliminasi Gauss** adalah proses yang melibatkan serangkaian operasi baris dasar untuk menyederhanakan matriks hasil penyusunan sistem persamaan linear. Proses ini terdiri dari dua bagian: eliminasi maju, yang mengubah matriks menjadi bentuk eselon baris, dan substitusi mundur, yang mencari bentuk eselon baris tereduksi dan solusi sistem.  \n",
    "**Tiga jenis operasi dasar mengenai metode eliminasi gauss** yang dilakukan pada matriks sebagai berikut:  \n",
    "* Menukar posisi dua baris.  \n",
    "* Mengalikan suatu baris dengan skalar bukan nol .  \n",
    "* Menambahkan suatu baris dengan suatu kelipatan dari baris yang lain.  "
   ]
  },
  {
   "cell_type": "markdown",
   "metadata": {},
   "source": [
    "Operasi-operasi ini tidak mengubah solusi sistem. Dalam analisis algoritma, operasi baris dasar diinterpretasikan sebagai perkalian matriks dasar dengan matriks asli. Dengan demikian, eliminasi Gauss mencari dekomposisi LU dalam bagian pertama dan menghasilkan matriks asli sebagai hasil perkalian matriks invers dengan matriks eselon baris tereduksi dalam bagian kedua.  \n",
    "Bentuk eselon baris adalah bentuk standar yang diterapkan pada matriks, di mana setiap baris disusun sedemikian rupa sehingga entri pertama yang bukan nol dari kiri disebut koefisien utama. Jika ada lebih dari satu koefisien utama dalam satu kolom, operasi baris digunakan untuk membuat salah satu menjadi nol. Baris-baris kemudian diurutkan sehingga baris dengan koefisien utama muncul lebih dulu dan baris tanpa koefisien utama diletakkan di bagian bawah matriks. Ini memberikan struktur yang teratur dan mudah dipahami dalam menganalisis matriks."
   ]
  },
  {
   "cell_type": "markdown",
   "metadata": {},
   "source": [
    "## Link Referensi  \n",
    "[1] https://kumparan.com/kabar-harian/sistem-persamaan-linear-dan-contoh-soalnya-1wlO01qJrrk/full  \n",
    "[2] https://katadata.co.id/lifestyle/varia/63f8b44a67a6f/memahami-metode-eliminasi-gauss-dan-pembahasan-soal  \n",
    "[3] https://id.wikipedia.org/wiki/Eliminasi_Gauss  "
   ]
  }
 ],
 "metadata": {
  "kernelspec": {
   "display_name": "Python 3",
   "language": "python",
   "name": "python3"
  },
  "language_info": {
   "codemirror_mode": {
    "name": "ipython",
    "version": 3
   },
   "file_extension": ".py",
   "mimetype": "text/x-python",
   "name": "python",
   "nbconvert_exporter": "python",
   "pygments_lexer": "ipython3",
   "version": "3.10.13"
  }
 },
 "nbformat": 4,
 "nbformat_minor": 2
}
